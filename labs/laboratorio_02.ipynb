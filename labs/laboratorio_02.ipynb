{
 "cells": [
  {
   "cell_type": "markdown",
   "metadata": {},
   "source": [
    "<img src=\"images/usm.jpg\" width=\"480\" height=\"240\" align=\"left\"/>"
   ]
  },
  {
   "cell_type": "markdown",
   "metadata": {},
   "source": [
    "# MAT281 - Laboratorio N°02\n",
    "\n",
    "## Objetivos de la clase\n",
    "\n",
    "* Reforzar los conceptos básicos de numpy."
   ]
  },
  {
   "cell_type": "markdown",
   "metadata": {},
   "source": [
    "## Contenidos\n",
    "\n",
    "* [Problema 01](#p1)\n",
    "* [Problema 02](#p2)\n",
    "* [Problema 03](#p3)"
   ]
  },
  {
   "cell_type": "markdown",
   "metadata": {},
   "source": [
    "<a id='p1'></a>\n",
    "\n",
    "## Problema 01\n",
    "\n",
    "Una **media móvil simple** (SMA) es el promedio de los últimos $k$ datos anteriores, es decir, sea $a_1$,$a_2$,...,$a_n$ un arreglo $n$-dimensional, entonces la SMA se define por:\n",
    "\n",
    "$$sma(k) =\\dfrac{1}{k}(a_{n}+a_{n-1}+...+a_{n-(k-1)}) = \\dfrac{1}{k}\\sum_{i=0}^{k-1}a_{n-i}  $$ \n",
    "\n",
    "\n",
    "Por otro lado podemos definir el SMA con una venta móvil de $n$ si el resultado nos retorna la el promedio ponderado avanzando de la siguiente forma:\n",
    "\n",
    "* $a = [1,2,3,4,5]$, la SMA con una ventana de $n=2$ sería:\n",
    "\n",
    "\n",
    "    * sma(2): [mean(1,2),mean(2,3),mean(3,4)] = [1.5, 2.5, 3.5, 4.5]\n",
    "    * sma(3): [mean(1,2,3),mean(2,3,4),mean(3,4,5)] = [2.,3.,4.]\n",
    "\n",
    "\n",
    "Implemente una función llamada `sma` cuyo input sea un arreglo unidimensional $a$ y un entero $n$, y cuyo ouput retorne el valor de la media móvil simple sobre el arreglo de la siguiente forma:\n",
    "\n",
    "* **Ejemplo**: *sma([5,3,8,10,2,1,5,1,0,2], 2)* = $[4. , 5.5, 9. , 6. , 1.5, 3. , 3. , 0.5, 1. ]$\n",
    "\n",
    "En este caso, se esta calculando el SMA para un arreglo con una ventana de $n=2$.\n",
    "\n",
    "**Hint**: utilice la función `numpy.cumsum`"
   ]
  },
  {
   "cell_type": "code",
   "execution_count": 69,
   "metadata": {},
   "outputs": [],
   "source": [
    "# importar librerias\n",
    "import numpy as np"
   ]
  },
  {
   "cell_type": "code",
   "execution_count": 70,
   "metadata": {},
   "outputs": [],
   "source": [
    "def sma(a:np.ndarray,n:int):\n",
    "    \n",
    "    \"\"\"\n",
    "    sma(arreglo,n)\n",
    "\n",
    "    Aproximacion del valor de pi mediante el método de Leibniz\n",
    "\n",
    "    Parameters\n",
    "    ----------\n",
    "    n : int\n",
    "        Ventana para calcular la media.\n",
    "    a : np.ndarray\n",
    "        Arreglo al que se le calculara la media movil.\n",
    "\n",
    "    Returns\n",
    "    -------\n",
    "    output : np.ndarray\n",
    "            Valor de la media movil con una ventana n.\n",
    "            \n",
    "    Examples\n",
    "    --------\n",
    "    >>> sma([1,2,3,4,5],2)\n",
    "    [1.5, 2.5, 3.5, 4.5]\n",
    "    \n",
    "    >>> sma([5,3,8,10,2,1,5,1,0,2],2) \n",
    "    [4. , 5.5, 9. , 6. , 1.5, 3. , 3. , 0.5, 1. ]\n",
    "    \"\"\"\n",
    "    \n",
    "    l = len(a)\n",
    "    if l <= n: #Primero analisamos el caso de que el arreglo tenga menos elemntos que la ventana\n",
    "        a_1 = np.zeros(1) #Definimos un arreglo de un elemento\n",
    "        v = np.cumsum(a) #Sumamos los elementos del arreglo\n",
    "        a_1[0] = v[l-1] #Calculamos su media movil\n",
    "        return a_1\n",
    "    else:\n",
    "        v = np.zeros((l-n+1))\n",
    "        a_1 = np.zeros(n)\n",
    "        contador = 0 #Iniciamos un contador \n",
    "        while contador != l-n+1: #Mientras no se realicen todas las operaciones continua el while\n",
    "            for i in range(0,n):\n",
    "                a_1[i] = a[contador + i]\n",
    "            v[contador] = (np.cumsum(a_1)[n-1]/n) #Calculamos la media movil y la agregamos a v\n",
    "            contador += 1\n",
    "        return v #Retornamos el arreglo con las medias\n",
    "    "
   ]
  },
  {
   "cell_type": "markdown",
   "metadata": {
    "scrolled": true
   },
   "source": [
    "### Verificar ejemplos:"
   ]
  },
  {
   "cell_type": "code",
   "execution_count": 71,
   "metadata": {},
   "outputs": [],
   "source": [
    "# ejemplo 01\n",
    "a = [1,2,3,4,5]\n",
    "\n",
    "np.testing.assert_array_equal(\n",
    "    sma(a, 2),\n",
    "    np.array([1.5, 2.5, 3.5, 4.5])\n",
    ")"
   ]
  },
  {
   "cell_type": "code",
   "execution_count": 72,
   "metadata": {},
   "outputs": [],
   "source": [
    "# ejemplo 02\n",
    "a = [5,3,8,10,2,1,5,1,0,2]\n",
    "\n",
    "np.testing.assert_array_equal(\n",
    "    sma(a, 2),\n",
    "    np.array([4. , 5.5, 9. , 6. , 1.5, 3. , 3. , 0.5, 1. ])\n",
    ")\n"
   ]
  },
  {
   "cell_type": "markdown",
   "metadata": {},
   "source": [
    "<a id='p2'></a>\n",
    "\n",
    "## Problema 02\n",
    "\n",
    "La función **strides($a,n,p$)**, corresponde a transformar un arreglo unidimensional $a$ en una matriz de $n$ columnas, en el cual las filas se van construyendo desfasando la posición del arreglo en $p$ pasos hacia adelante.\n",
    "\n",
    "* Para el arreglo unidimensional $a$ = [ 1,  2,  3,  4,  5,  6,  7,  8,  9, 10], la función strides($a,4,2$), corresponde a crear una matriz de $4$ columnas, cuyos desfaces hacia adelante se hacen de dos en dos. \n",
    "\n",
    "El resultado tendría que ser algo así:$$\\begin{pmatrix}\n",
    " 1& 2 &3 &4 \\\\ \n",
    " 3&  4&5&6 \\\\ \n",
    " 5& 6 &7 &8 \\\\ \n",
    " 7& 8 &9 &10 \\\\ \n",
    "\\end{pmatrix}$$\n",
    "\n",
    "\n",
    "Implemente una función llamada `strides(a,4,2)` cuyo input sea un arreglo unidimensional y retorne la matriz de $4$ columnas, cuyos desfaces hacia adelante se hacen de dos en dos. \n",
    "\n",
    "* **Ejemplo**: *strides($a$,4,2)* =$\\begin{pmatrix}\n",
    " 1& 2 &3 &4 \\\\ \n",
    " 3&  4&5&6 \\\\ \n",
    " 5& 6 &7 &8 \\\\ \n",
    " 7& 8 &9 &10 \\\\ \n",
    "\\end{pmatrix}$\n"
   ]
  },
  {
   "cell_type": "code",
   "execution_count": 10,
   "metadata": {},
   "outputs": [],
   "source": [
    "# importar librerias\n",
    "import numpy as np"
   ]
  },
  {
   "cell_type": "code",
   "execution_count": 76,
   "metadata": {},
   "outputs": [],
   "source": [
    "def strides(a:np.ndarray,columnas:int,saltos:int):\n",
    "    \n",
    "    \"\"\"\n",
    "    stride(arreglo,columnas,saltos)\n",
    "    \n",
    "    Crea una matriz a partir de un arreglo \n",
    "    \n",
    "    Parameters\n",
    "    ----------\n",
    "    columnas : int\n",
    "        Cantidad de columnas de la matriz por construir.\n",
    "    a : np.ndarray\n",
    "        Arreglo al que se le creara la matriz.\n",
    "    saltos : int\n",
    "        Saltos que tendra cada fila respecto al arreglo\n",
    "\n",
    "    Returns\n",
    "    -------\n",
    "    output : np.ndarray\n",
    "            Matriz construida a partir del arreglo con una cantidad de columnas dada.\n",
    "            \n",
    "    Examples\n",
    "    --------\n",
    "    >>> strides(np.array([ 1,  2,  3,  4,  5,  6,  7,  8,  9, 10]),4,2)\n",
    "    array([[ 1.,  2.,  3.,  4.],\n",
    "       [ 3.,  4.,  5.,  6.],\n",
    "       [ 5.,  6.,  7.,  8.],\n",
    "       [ 7.,  8.,  9., 10.]])\n",
    "    \n",
    "    \"\"\"\n",
    "    if len(a) <= columnas: #Primero verificamos el caso de que la cantidad de columnas sea mayor al largo del arreglo\n",
    "        matriz = np.zeros(1,len(a))\n",
    "        for i in range(0,len(a)-1):\n",
    "            matriz[1,i] = a[i] #Agregamos los elementos a la matriz con 0 en la primera fila\n",
    "        return matriz #Retornamos la matriz\n",
    "    \n",
    "    for i in range(0,len(a)-1,saltos): \n",
    "        if i == 0:\n",
    "            matriz = np.zeros((1,columnas)) #Para la primera iteracion creamos una matriz con 0\n",
    "            for k in range(0,columnas):\n",
    "                matriz[0,k]=a[k] #Agregamos los primeros elementos a la primera fila de la matriz\n",
    "        elif i + columnas <= len(a): #Verificamos que se puedan seguir agregando elementos\n",
    "            a_1 = np.zeros((1,columnas)) #Creamos un arreglo que luego se agregara a la matriz inicial\n",
    "            for k in range(0,columnas):\n",
    "                a_1[0,k] = a[i+k] #Agregamos los elementos al arreglo\n",
    "            a_1.shape\n",
    "            matriz = np.r_[matriz,a_1] #Agregamos el arreglo a la matriz\n",
    "    return matriz  #Retornamos la matriz con los elementos del arreglo\n",
    "    "
   ]
  },
  {
   "cell_type": "markdown",
   "metadata": {},
   "source": [
    "### Verificar ejemplos:"
   ]
  },
  {
   "cell_type": "code",
   "execution_count": 77,
   "metadata": {},
   "outputs": [],
   "source": [
    "# ejemplo 01\n",
    "a = np.array([ 1,  2,  3,  4,  5,  6,  7,  8,  9, 10])\n",
    "n=4\n",
    "p=2\n",
    "\n",
    "np.testing.assert_array_equal(\n",
    "    strides(a,n,p),\n",
    "    np.array([\n",
    "       [ 1,  2,  3,  4],\n",
    "       [ 3,  4,  5,  6],\n",
    "       [ 5,  6,  7,  8],\n",
    "       [ 7,  8,  9, 10]])\n",
    ")"
   ]
  },
  {
   "cell_type": "markdown",
   "metadata": {},
   "source": [
    "<a id='p3'></a>\n",
    "\n",
    "## Problema 03\n",
    "\n",
    "\n",
    "Un **cuadrado mágico** es una matriz de tamaño $n \\times n$ de números enteros positivos tal que \n",
    "la suma de los números por columnas, filas y diagonales principales sea la misma. Usualmente, los números empleados para rellenar las casillas son consecutivos, de 1 a $n^2$, siendo $n$ el número de columnas y filas del cuadrado mágico.\n",
    "\n",
    "Si los números son consecutivos de 1 a $n^2$, la suma de los números por columnas, filas y diagonales principales \n",
    "es igual a : $$M_{n} = \\dfrac{n(n^2+1)}{2}$$\n",
    "Por ejemplo, \n",
    "\n",
    "* $A= \\begin{pmatrix}\n",
    " 4& 9 &2 \\\\ \n",
    " 3&  5&7 \\\\ \n",
    " 8& 1 &6 \n",
    "\\end{pmatrix}$,\n",
    "es un cuadrado mágico.\n",
    "\n",
    "* $B= \\begin{pmatrix}\n",
    " 4& 2 &9 \\\\ \n",
    " 3&  5&7 \\\\ \n",
    " 8& 1 &6 \n",
    "\\end{pmatrix}$, no es un cuadrado mágico.\n",
    "\n",
    "Implemente una función llamada `es_cudrado_magico` cuyo input sea una matriz cuadrada de tamaño $n$ con números consecutivos de $1$ a $n^2$ y cuyo ouput retorne *True* si es un cuadrado mágico o 'False', en caso contrario\n",
    "\n",
    "* **Ejemplo**: *es_cudrado_magico($A$)* = True, *es_cudrado_magico($B$)* = False\n",
    "\n",
    "**Hint**: Cree una función que valide la mariz es cuadrada y  que sus números son consecutivos del 1 a $n^2$."
   ]
  },
  {
   "cell_type": "code",
   "execution_count": 82,
   "metadata": {},
   "outputs": [],
   "source": [
    "# importar librerias\n",
    "import numpy as np"
   ]
  },
  {
   "cell_type": "code",
   "execution_count": 87,
   "metadata": {},
   "outputs": [],
   "source": [
    "def es_cuadrado_magico(A:np.ndarray):\n",
    "       \n",
    "    \"\"\"\n",
    "    es_cuadrado_magico(arreglo)\n",
    "\n",
    "    Determina si la matriz ingresada es un cuadrado magico o no\n",
    "\n",
    "    Parameters\n",
    "    ----------\n",
    "    a : np.ndarray\n",
    "        Matriz a determinar si es cuadrado magico o no.\n",
    "\n",
    "    Returns\n",
    "    -------\n",
    "    output : bolean\n",
    "            Valor de verdad para determinar si es un cuadrado magico o no.\n",
    "            \n",
    "    Examples\n",
    "    --------\n",
    "    >>> es_cuadrado_magico(np.array([[4,9,2],[3,5,7],[8,1,6]]))\n",
    "    True\n",
    "    \n",
    "    >>> es_cuadrado_magico(np.array([[4,2,9],[3,5,7],[8,1,6]])) \n",
    "    False\n",
    "    \"\"\"\n",
    "        \n",
    "    size = A.shape\n",
    "    if size[0] == size[1]: #Verificamos que la matriz sea cuadrada\n",
    "        sum = 0 #Iniciamos una suma\n",
    "        Valor = True #Suponemos que si es cuadrado magico\n",
    "        for i in range(0,size[0]-1):\n",
    "            a = A[i]\n",
    "            if i == 0:\n",
    "                sum = np.cumsum(a)[size[0]-1] #Sumamos la primera fila de la matriz \n",
    "            if sum != np.cumsum(a)[size[0]-1]: #Verificamos que el resto de filas sume lo mismo que la primera\n",
    "                return False\n",
    "        for j in range(0,size[1]-1): #Verificamos que las columnas sumen lo mismo que la primera fila\n",
    "            a = A[:,j]\n",
    "            if sum != np.cumsum(a)[size[0]-1]: #En caso contrario retornar False\n",
    "                return False\n",
    "        if np.trace(A) != sum: #Verificamos que la diagonal sume lo mismo que la primera fila\n",
    "            return False\n",
    "        return True   #Retornamos True en caso de ser cuadrado magico \n",
    "    else: #Retornamos False en caso de que no sea cuadrada\n",
    "        return False\n",
    "    "
   ]
  },
  {
   "cell_type": "markdown",
   "metadata": {},
   "source": [
    "### Verificar ejemplos:"
   ]
  },
  {
   "cell_type": "code",
   "execution_count": 88,
   "metadata": {},
   "outputs": [],
   "source": [
    "# ejemplo 01\n",
    "A = np.array([[4,9,2],[3,5,7],[8,1,6]])\n",
    "assert es_cuadrado_magico(A) == True, \"ejemplo 01 incorrecto\""
   ]
  },
  {
   "cell_type": "code",
   "execution_count": 89,
   "metadata": {},
   "outputs": [],
   "source": [
    "# ejemplo 02\n",
    "B = np.array([[4,2,9],[3,5,7],[8,1,6]])\n",
    "assert es_cuadrado_magico(B) == False, \"ejemplo 02 incorrecto\""
   ]
  }
 ],
 "metadata": {
  "kernelspec": {
   "display_name": "Python 3",
   "language": "python",
   "name": "python3"
  },
  "language_info": {
   "codemirror_mode": {
    "name": "ipython",
    "version": 3
   },
   "file_extension": ".py",
   "mimetype": "text/x-python",
   "name": "python",
   "nbconvert_exporter": "python",
   "pygments_lexer": "ipython3",
   "version": "3.7.8"
  }
 },
 "nbformat": 4,
 "nbformat_minor": 4
}
