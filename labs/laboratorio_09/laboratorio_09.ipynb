{
 "cells": [
  {
   "cell_type": "markdown",
   "metadata": {},
   "source": [
    "<img src=\"images/usm.jpg\" width=\"480\" height=\"240\" align=\"left\"/>"
   ]
  },
  {
   "cell_type": "markdown",
   "metadata": {},
   "source": [
    "# MAT281 - Laboratorio N°03\n",
    "\n",
    "## Objetivos del laboratorio\n",
    "\n",
    "* Reforzar conceptos básicos de análisis no supervisado."
   ]
  },
  {
   "cell_type": "markdown",
   "metadata": {},
   "source": [
    "## Contenidos\n",
    "\n",
    "* [Problema 01](#p1)\n"
   ]
  },
  {
   "cell_type": "markdown",
   "metadata": {},
   "source": [
    "<a id='p1'></a>\n",
    "## I.- Problema 01\n",
    "\n",
    "\n",
    "<img src=\"https://freedesignfile.com/upload/2013/06/Car-logos-1.jpg\" width=\"360\" height=\"360\" align=\"center\"/>\n",
    "\n",
    "\n",
    "El conjunto de datos se denomina `vehiculos_procesado_con_grupos.csv`, el cual contine algunas de las características más importante de un vehículo.\n",
    "\n",
    "En este ejercicio se tiene como objetivo, es poder clasificar los distintos vehículos basados en las cracterísticas que se presentan a continuación. La dificultad de este ejercicio radíca en que ahora tenemos variables numéricas y variables categóricas.\n",
    "\n",
    "Lo primero será cargar el conjunto de datos:"
   ]
  },
  {
   "cell_type": "code",
   "execution_count": 1,
   "metadata": {},
   "outputs": [],
   "source": [
    "import os\n",
    "import numpy as np\n",
    "import pandas as pd\n",
    "import matplotlib.pyplot as plt\n",
    "import seaborn as sns\n",
    "\n",
    "from sklearn.preprocessing import MinMaxScaler\n",
    "from sklearn.dummy import DummyClassifier\n",
    "from sklearn.cluster import KMeans\n",
    "\n",
    "\n",
    "%matplotlib inline\n",
    "sns.set_palette(\"deep\", desat=.6)\n",
    "sns.set(rc={'figure.figsize':(11.7,8.27)})"
   ]
  },
  {
   "cell_type": "code",
   "execution_count": 2,
   "metadata": {},
   "outputs": [
    {
     "data": {
      "text/html": [
       "<div>\n",
       "<style scoped>\n",
       "    .dataframe tbody tr th:only-of-type {\n",
       "        vertical-align: middle;\n",
       "    }\n",
       "\n",
       "    .dataframe tbody tr th {\n",
       "        vertical-align: top;\n",
       "    }\n",
       "\n",
       "    .dataframe thead th {\n",
       "        text-align: right;\n",
       "    }\n",
       "</style>\n",
       "<table border=\"1\" class=\"dataframe\">\n",
       "  <thead>\n",
       "    <tr style=\"text-align: right;\">\n",
       "      <th></th>\n",
       "      <th>year</th>\n",
       "      <th>desplazamiento</th>\n",
       "      <th>cilindros</th>\n",
       "      <th>co2</th>\n",
       "      <th>clase_tipo</th>\n",
       "      <th>traccion_tipo</th>\n",
       "      <th>transmision_tipo</th>\n",
       "      <th>combustible_tipo</th>\n",
       "      <th>tamano_motor_tipo</th>\n",
       "      <th>consumo_tipo</th>\n",
       "      <th>co2_tipo</th>\n",
       "      <th>consumo_litros_milla</th>\n",
       "    </tr>\n",
       "  </thead>\n",
       "  <tbody>\n",
       "    <tr>\n",
       "      <th>0</th>\n",
       "      <td>1984</td>\n",
       "      <td>2.5</td>\n",
       "      <td>4.0</td>\n",
       "      <td>522.764706</td>\n",
       "      <td>Vehículos Especiales</td>\n",
       "      <td>dos</td>\n",
       "      <td>Automatica</td>\n",
       "      <td>Normal</td>\n",
       "      <td>pequeño</td>\n",
       "      <td>alto</td>\n",
       "      <td>alto</td>\n",
       "      <td>0.222671</td>\n",
       "    </tr>\n",
       "    <tr>\n",
       "      <th>1</th>\n",
       "      <td>1984</td>\n",
       "      <td>4.2</td>\n",
       "      <td>6.0</td>\n",
       "      <td>683.615385</td>\n",
       "      <td>Vehículos Especiales</td>\n",
       "      <td>dos</td>\n",
       "      <td>Automatica</td>\n",
       "      <td>Normal</td>\n",
       "      <td>grande</td>\n",
       "      <td>muy alto</td>\n",
       "      <td>muy alto</td>\n",
       "      <td>0.291185</td>\n",
       "    </tr>\n",
       "    <tr>\n",
       "      <th>2</th>\n",
       "      <td>1985</td>\n",
       "      <td>2.5</td>\n",
       "      <td>4.0</td>\n",
       "      <td>555.437500</td>\n",
       "      <td>Vehículos Especiales</td>\n",
       "      <td>dos</td>\n",
       "      <td>Automatica</td>\n",
       "      <td>Normal</td>\n",
       "      <td>pequeño</td>\n",
       "      <td>alto</td>\n",
       "      <td>alto</td>\n",
       "      <td>0.236588</td>\n",
       "    </tr>\n",
       "    <tr>\n",
       "      <th>3</th>\n",
       "      <td>1985</td>\n",
       "      <td>4.2</td>\n",
       "      <td>6.0</td>\n",
       "      <td>683.615385</td>\n",
       "      <td>Vehículos Especiales</td>\n",
       "      <td>dos</td>\n",
       "      <td>Automatica</td>\n",
       "      <td>Normal</td>\n",
       "      <td>grande</td>\n",
       "      <td>muy alto</td>\n",
       "      <td>muy alto</td>\n",
       "      <td>0.291185</td>\n",
       "    </tr>\n",
       "    <tr>\n",
       "      <th>4</th>\n",
       "      <td>1987</td>\n",
       "      <td>3.8</td>\n",
       "      <td>6.0</td>\n",
       "      <td>555.437500</td>\n",
       "      <td>Coches Medianos</td>\n",
       "      <td>dos</td>\n",
       "      <td>Automatica</td>\n",
       "      <td>Premium</td>\n",
       "      <td>grande</td>\n",
       "      <td>alto</td>\n",
       "      <td>alto</td>\n",
       "      <td>0.236588</td>\n",
       "    </tr>\n",
       "  </tbody>\n",
       "</table>\n",
       "</div>"
      ],
      "text/plain": [
       "   year  desplazamiento  cilindros         co2            clase_tipo  \\\n",
       "0  1984             2.5        4.0  522.764706  Vehículos Especiales   \n",
       "1  1984             4.2        6.0  683.615385  Vehículos Especiales   \n",
       "2  1985             2.5        4.0  555.437500  Vehículos Especiales   \n",
       "3  1985             4.2        6.0  683.615385  Vehículos Especiales   \n",
       "4  1987             3.8        6.0  555.437500       Coches Medianos   \n",
       "\n",
       "  traccion_tipo transmision_tipo combustible_tipo tamano_motor_tipo  \\\n",
       "0           dos       Automatica           Normal           pequeño   \n",
       "1           dos       Automatica           Normal            grande   \n",
       "2           dos       Automatica           Normal           pequeño   \n",
       "3           dos       Automatica           Normal            grande   \n",
       "4           dos       Automatica          Premium            grande   \n",
       "\n",
       "  consumo_tipo  co2_tipo  consumo_litros_milla  \n",
       "0         alto      alto              0.222671  \n",
       "1     muy alto  muy alto              0.291185  \n",
       "2         alto      alto              0.236588  \n",
       "3     muy alto  muy alto              0.291185  \n",
       "4         alto      alto              0.236588  "
      ]
     },
     "execution_count": 2,
     "metadata": {},
     "output_type": "execute_result"
    }
   ],
   "source": [
    "# cargar datos\n",
    "df = pd.read_csv(os.path.join(\"data\",\"vehiculos_procesado_con_grupos.csv\"), sep=\",\")\\\n",
    "       .drop(\n",
    "            [\"fabricante\", \n",
    "             \"modelo\",\n",
    "             \"transmision\", \n",
    "             \"traccion\", \n",
    "             \"clase\", \n",
    "             \"combustible\",\n",
    "             \"consumo\"], \n",
    "    \n",
    "          axis=1)\n",
    "\n",
    "df.head()"
   ]
  },
  {
   "cell_type": "markdown",
   "metadata": {},
   "source": [
    "En este caso, no solo se tienen datos numéricos, sino que también categóricos. Además, tenemos problemas de datos **vacíos (Nan)**. Así que para resolver este problema, seguiremos varios pasos:"
   ]
  },
  {
   "cell_type": "markdown",
   "metadata": {},
   "source": [
    "## 1.- Normalizar datos\n",
    "\n",
    "1. Cree un conjunto de datos con las variables numéricas, además, para cada dato vacía, rellene con el promedio asociado a esa columna. Finalmente, normalize los datos mediante el procesamiento **MinMaxScaler** de **sklearn**.\n",
    "\n",
    "2.-  Cree un conjunto de datos con las variables categóricas , además, transforme de variables numéricas a categóricas ocupando el comando **get_dummies** de pandas ([refrenecia](https://pandas.pydata.org/pandas-docs/stable/reference/api/pandas.get_dummies.html)). Explique a grande rasgo como se realiza la codificación de variables numéricas a categóricas.\n",
    "\n",
    "3.- Junte ambos dataset en uno, llamado **df_procesado**. \n"
   ]
  },
  {
   "cell_type": "markdown",
   "metadata": {},
   "source": [
    "## 2.- Realizar ajuste mediante kmeans\n",
    "\n",
    "Una vez depurado el conjunto de datos, es momento de aplicar el algoritmo de **kmeans**.\n",
    "\n",
    "1. Ajuste el modelo de **kmeans** sobre el conjunto de datos, con un total de 8 clusters.\n",
    "2. Calcular los cluster y el valor de los centroides.\n",
    "3. Realizar que resumas las principales cualidades de cada cluster. Para  cada cluster calcule:\n",
    "\n",
    "    a. Valor promedio de las variables numérica.\\\n",
    "    b. Moda para las variables numericas\n",
    "    \n",
    "    "
   ]
  },
  {
   "cell_type": "markdown",
   "metadata": {},
   "source": [
    "## 3.- Elegir Número de cluster\n",
    "\n",
    "Estime mediante la **regla del codo**, el número de cluster apropiados para el caso.\n",
    "Para efectos prácticos, eliga la siguiente secuencia como número de clusters a comparar:\n",
    "\n",
    "$$[5, 10, 20, 30, 50, 75, 100, 200, 300]$$\n",
    "\n",
    "Una ve realizado el gráfico, saque sus propias conclusiones del caso.\n"
   ]
  }
 ],
 "metadata": {
  "kernelspec": {
   "display_name": "Python 3",
   "language": "python",
   "name": "python3"
  },
  "language_info": {
   "codemirror_mode": {
    "name": "ipython",
    "version": 3
   },
   "file_extension": ".py",
   "mimetype": "text/x-python",
   "name": "python",
   "nbconvert_exporter": "python",
   "pygments_lexer": "ipython3",
   "version": "3.7.8"
  }
 },
 "nbformat": 4,
 "nbformat_minor": 4
}
