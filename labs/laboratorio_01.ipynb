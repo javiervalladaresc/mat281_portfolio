{
 "cells": [
  {
   "cell_type": "markdown",
   "metadata": {},
   "source": [
    "<img src=\"images/usm.jpg\" width=\"480\" height=\"240\" align=\"left\"/>"
   ]
  },
  {
   "cell_type": "markdown",
   "metadata": {},
   "source": [
    "# MAT281 - Laboratorio N°01\n",
    "\n",
    "## Objetivos de la clase\n",
    "\n",
    "* Reforzar los conceptos básicos de python."
   ]
  },
  {
   "cell_type": "markdown",
   "metadata": {},
   "source": [
    "## Contenidos\n",
    "\n",
    "* [Problema 01](#p1)\n",
    "* [Problema 02](#p2)\n",
    "* [Problema 03](#p3)\n",
    "* [Problema 04](#p4)\n"
   ]
  },
  {
   "cell_type": "markdown",
   "metadata": {},
   "source": [
    "<a id='p1'></a>\n",
    "\n",
    "## Problema 01\n",
    "\n",
    "### a) Calcular el número $\\pi$\n",
    "\n",
    "En los siglos XVII y XVIII, James Gregory y Gottfried Leibniz descubrieron una serie infinita que sirve para calcular $\\pi$:\n",
    "\n",
    "$$\\pi = 4 \\sum_{k=1}^{\\infty}\\dfrac{(-1)^{k+1}}{2k-1} = 4(1-\\dfrac{1}{3}+\\dfrac{1}{5}-\\dfrac{1}{7} + ...) $$\n",
    "\n",
    "Desarolle un programa para estimar el valor de $\\pi$ ocupando el método de Leibniz, donde la entrada del programa debe ser un número entero $n$ que indique cuántos términos de la suma se utilizará.\n",
    "\n",
    "\n",
    "* **Ejemplo**: *calcular_pi(3)* = 3.466666666666667, *calcular_pi(1000)* = 3.140592653839794\n"
   ]
  },
  {
   "cell_type": "code",
   "execution_count": 2,
   "metadata": {},
   "outputs": [],
   "source": [
    "def calcular_pi(n:int)->float:\n",
    "    \n",
    "    \"\"\"\n",
    "    calcular_pi(n)\n",
    "\n",
    "    Aproximacion del valor de pi mediante el método de Leibniz\n",
    "\n",
    "    Parameters\n",
    "    ----------\n",
    "    n : int\n",
    "        Numero de terminos.\n",
    "\n",
    "    Returns\n",
    "    -------\n",
    "    output : float\n",
    "        Valor aproximado de pi.\n",
    "        \n",
    "    Examples\n",
    "    --------\n",
    "    >>> calcular_pi(3)\n",
    "    3.466666666666667\n",
    "    \n",
    "    >>> calcular_pi(1000) \n",
    "    3.140592653839794\n",
    "    \"\"\"\n",
    "    \n",
    "    pi = 0 # valor incial \n",
    "    for k in range(1,n+1):\n",
    "        numerador = (-1)**(k+1) # numerador de la iteracion i\n",
    "        denominador = 2*k-1  # denominador de la iteracion i\n",
    "        pi+=numerador/denominador # suma hasta el i-esimo termino\n",
    "    \n",
    "    return 4*pi"
   ]
  },
  {
   "cell_type": "code",
   "execution_count": 3,
   "metadata": {},
   "outputs": [
    {
     "name": "stdout",
     "output_type": "stream",
     "text": [
      "Help on function calcular_pi in module __main__:\n",
      "\n",
      "calcular_pi(n: int) -> float\n",
      "    calcular_pi(n)\n",
      "    \n",
      "    Aproximacion del valor de pi mediante el método de Leibniz\n",
      "    \n",
      "    Parameters\n",
      "    ----------\n",
      "    n : int\n",
      "        Numero de terminos.\n",
      "    \n",
      "    Returns\n",
      "    -------\n",
      "    output : float\n",
      "        Valor aproximado de pi.\n",
      "        \n",
      "    Examples\n",
      "    --------\n",
      "    >>> calcular_pi(3)\n",
      "    3.466666666666667\n",
      "    \n",
      "    >>> calcular_pi(1000) \n",
      "    3.140592653839794\n",
      "\n"
     ]
    }
   ],
   "source": [
    "# Acceso a la documentación\n",
    "help(calcular_pi)"
   ]
  },
  {
   "cell_type": "markdown",
   "metadata": {},
   "source": [
    "### Verificar ejemplos: "
   ]
  },
  {
   "cell_type": "code",
   "execution_count": 4,
   "metadata": {},
   "outputs": [],
   "source": [
    "# ejemplo 01\n",
    "assert calcular_pi(3) == 3.466666666666667, \"ejemplo 01 incorrecto\""
   ]
  },
  {
   "cell_type": "code",
   "execution_count": 5,
   "metadata": {},
   "outputs": [],
   "source": [
    "# ejemplo 02\n",
    "assert calcular_pi(1000) == 3.140592653839794, \"ejemplo 02 incorrecto\""
   ]
  },
  {
   "cell_type": "markdown",
   "metadata": {},
   "source": [
    "**Observación**:\n",
    "\n",
    "* Note que si corre la línea de comando `calcular_pi(3.0)` le mandará un error ... ¿ por qué ?\n",
    "* En los laboratorio, no se pide ser tan meticuloso con la documentacion.\n",
    "* Lo primero es definir el código, correr los ejemplos  y  luego documentar correctamente."
   ]
  },
  {
   "cell_type": "markdown",
   "metadata": {},
   "source": [
    "### b) Calcular el número $e$\n",
    "\n",
    "Euler realizó varios aportes en relación a $e$, pero no fue hasta 1748 cuando publicó su **Introductio in analysin infinitorum** que dio un tratamiento definitivo a las ideas sobre $e$. Allí mostró que:\n",
    "\n",
    "\n",
    "En los siglos XVII y XVIII, James Gregory y Gottfried Leibniz descubrieron una serie infinita que sirve para calcular π:\n",
    "\n",
    "$$e = \\sum_{k=0}^{\\infty}\\dfrac{1}{k!} = 1+\\dfrac{1}{2!}+\\dfrac{1}{3!}+\\dfrac{1}{4!} + ... $$\n",
    "\n",
    "Desarolle un programa para estimar el valor de $e$ ocupando el método de Euler, donde la entrada del programa debe ser un número entero $n$ que indique cuántos términos de la suma se utilizará.\n",
    "\n",
    "\n",
    "* **Ejemplo**: *calcular_e(3)* =2.5, *calcular_e(1000)* = 2.7182818284590455"
   ]
  },
  {
   "cell_type": "code",
   "execution_count": 6,
   "metadata": {},
   "outputs": [],
   "source": [
    "def calcular_e(n:int)->float:\n",
    "    \"\"\"\n",
    "    calcular_e(n)\n",
    "\n",
    "    Aproximacion del valor de e mediante el método de Euler.\n",
    "\n",
    "    Parameters\n",
    "    ----------\n",
    "    n : int\n",
    "        Numero de terminos.\n",
    "\n",
    "    Returns\n",
    "    -------\n",
    "    output : float\n",
    "        Valor aproximado de e.\n",
    "        \n",
    "    Examples\n",
    "    --------\n",
    "    >>> calcular_e(6)\n",
    "    2.7166666666666663\n",
    "    \n",
    "    >>> calcular_e(300) \n",
    "    2.7182818284590455\n",
    "    \"\"\"\n",
    "    e = 0 #Valor inicial de la iteración\n",
    "    for i in range(1,n+1):\n",
    "        denominador = 1\n",
    "        for k in range(1,i):\n",
    "            denominador = denominador*k\n",
    "        e = e + 1/denominador\n",
    "    return e"
   ]
  },
  {
   "cell_type": "code",
   "execution_count": 7,
   "metadata": {},
   "outputs": [
    {
     "name": "stdout",
     "output_type": "stream",
     "text": [
      "Help on function calcular_e in module __main__:\n",
      "\n",
      "calcular_e(n: int) -> float\n",
      "    calcular_e(n)\n",
      "    \n",
      "    Aproximacion del valor de e mediante el método de Euler.\n",
      "    \n",
      "    Parameters\n",
      "    ----------\n",
      "    n : int\n",
      "        Numero de terminos.\n",
      "    \n",
      "    Returns\n",
      "    -------\n",
      "    output : float\n",
      "        Valor aproximado de e.\n",
      "        \n",
      "    Examples\n",
      "    --------\n",
      "    >>> calcular_e(6)\n",
      "    2.7166666666666663\n",
      "    \n",
      "    >>> calcular_e(300) \n",
      "    2.7182818284590455\n",
      "\n"
     ]
    }
   ],
   "source": [
    "#Documentación de la función\n",
    "help(calcular_e)"
   ]
  },
  {
   "cell_type": "markdown",
   "metadata": {},
   "source": [
    "### Verificar ejemplo:"
   ]
  },
  {
   "cell_type": "code",
   "execution_count": 8,
   "metadata": {},
   "outputs": [],
   "source": [
    "# ejemplo 01\n",
    "assert calcular_e(3) == 2.5, \"ejemplo 01 incorrecto\""
   ]
  },
  {
   "cell_type": "code",
   "execution_count": 9,
   "metadata": {},
   "outputs": [],
   "source": [
    "# ejemplo 02\n",
    "assert calcular_e(1000) ==  2.7182818284590455, \"ejemplo 02 incorrecto\""
   ]
  },
  {
   "cell_type": "markdown",
   "metadata": {},
   "source": [
    "<a id='p2'></a>\n",
    "\n",
    "## Problema 02\n",
    "\n",
    "\n",
    "Sea $\\sigma(n)$ definido como la suma de los divisores propios de $n$ (números menores que n que se dividen en $n$).\n",
    "\n",
    "Los [números amigos](https://en.wikipedia.org/wiki/Amicable_numbers) son  enteros positivos $n_1$ y $n_2$ tales que la suma de los divisores propios de uno es igual al otro número y viceversa, es decir, $\\sigma(n_1)=\\sigma(n_2)$ y $\\sigma(n_2)=\\sigma(n_1)$.\n",
    "\n",
    "\n",
    "Por ejemplo, los números 220 y 284 son números amigos.\n",
    "* los divisores propios de 220 son 1, 2, 4, 5, 10, 11, 20, 22, 44, 55 y 110; por lo tanto $\\sigma(220) = 284$. \n",
    "* los divisores propios de 284 son 1, 2, 4, 71 y 142; entonces $\\sigma(284) = 220$.\n",
    "\n",
    "\n",
    "Implemente una función llamada `amigos` cuyo input sean dos números naturales $n_1$ y $n_2$, cuyo output sea verifique si los números son amigos o no.\n",
    "\n",
    "* **Ejemplo**: *amigos(220,284)* = True, *amigos(6,5)* = False\n"
   ]
  },
  {
   "cell_type": "code",
   "execution_count": 10,
   "metadata": {},
   "outputs": [],
   "source": [
    "def amigos(n_1:int,n_2:int):\n",
    "    \"\"\"\n",
    "    amigos(n_1,n_2)\n",
    "\n",
    "    Verificacion si dos numeros son amigos o no, segun definicion del enunciado.\n",
    "\n",
    "    Parameters\n",
    "    ----------\n",
    "    n_1 : int\n",
    "        Primer numero para ver si son amigos.\n",
    "    n_2 : int\n",
    "        Segundo numero para ver si es amigo de n_1.\n",
    "\n",
    "    Returns\n",
    "    -------\n",
    "    output : Boolean\n",
    "        Valor de verdad de si son amigos o no los numeros.\n",
    "        \n",
    "    Examples\n",
    "    --------\n",
    "    >>> amigos(220,284)\n",
    "        True\n",
    "    \n",
    "    >>> amigos(5,16) \n",
    "        False\n",
    "    \"\"\"\n",
    "    suma_1 = 0 # Valores iniciales de suma_1 y suma_2\n",
    "    suma_2 = 0\n",
    "    for k in range(1, n_1): #Iteracion para los valores menores a n_1\n",
    "        if n_1%k == 0: #Se verifica que k sea divisor de n_1\n",
    "            suma_1 += k #Se agraga k a la suma_1\n",
    "    for i in range(1,n_2):#Misma iteracion pero para n_2 \n",
    "        if n_2%i == 0:\n",
    "            suma_2 += i\n",
    "    if suma_1 == n_2 and suma_2 == n_1: #Se verifica si son amigos o no los numeros n_1 y _n2\n",
    "        return True \n",
    "    else:\n",
    "        return False\n",
    "    "
   ]
  },
  {
   "cell_type": "code",
   "execution_count": 11,
   "metadata": {},
   "outputs": [
    {
     "name": "stdout",
     "output_type": "stream",
     "text": [
      "Help on function amigos in module __main__:\n",
      "\n",
      "amigos(n_1: int, n_2: int)\n",
      "    amigos(n_1,n_2)\n",
      "    \n",
      "    Verificacion si dos numeros son amigos o no, segun definicion del enunciado.\n",
      "    \n",
      "    Parameters\n",
      "    ----------\n",
      "    n_1 : int\n",
      "        Primer numero para ver si son amigos.\n",
      "    n_2 : int\n",
      "        Segundo numero para ver si es amigo de n_1.\n",
      "    \n",
      "    Returns\n",
      "    -------\n",
      "    output : Boolean\n",
      "        Valor de verdad de si son amigos o no los numeros.\n",
      "        \n",
      "    Examples\n",
      "    --------\n",
      "    >>> amigos(220,284)\n",
      "        True\n",
      "    \n",
      "    >>> amigos(5,16) \n",
      "        False\n",
      "\n"
     ]
    }
   ],
   "source": [
    "#Documentacion de la funcion\n",
    "help(amigos)"
   ]
  },
  {
   "cell_type": "markdown",
   "metadata": {},
   "source": [
    "### Verificar ejemplos: "
   ]
  },
  {
   "cell_type": "code",
   "execution_count": 12,
   "metadata": {},
   "outputs": [],
   "source": [
    "# ejemplo 01\n",
    "assert amigos(220,284) == True, \"ejemplo 01 incorrecto\""
   ]
  },
  {
   "cell_type": "code",
   "execution_count": 13,
   "metadata": {},
   "outputs": [],
   "source": [
    "# ejemplo 02\n",
    "assert amigos(6,5) == False, \"ejemplo 02 incorrecto\""
   ]
  },
  {
   "cell_type": "markdown",
   "metadata": {},
   "source": [
    "<a id='p3'></a>\n",
    "\n",
    "## Problema 03\n",
    "\n",
    "La [conjetura de Collatz](https://en.wikipedia.org/wiki/Collatz_conjecture), conocida también como conjetura $3n+1$ o conjetura de Ulam (entre otros nombres), fue enunciada por el matemático Lothar Collatz en 1937, y a la fecha no se ha resuelto.\n",
    "\n",
    "Sea la siguiente operación, aplicable a cualquier número entero positivo:\n",
    "* Si el número es par, se divide entre 2.\n",
    "* Si el número es impar, se multiplica por 3 y se suma 1.\n",
    "\n",
    "La conjetura dice que siempre alcanzaremos el 1 (y por tanto el ciclo 4, 2, 1) para cualquier número con el que comencemos. \n",
    "\n",
    "Implemente una función llamada `collatz` cuyo input sea un número natural positivo $N$ y como output devulva la secuencia de números hasta llegar a 1.\n",
    "\n",
    "* **Ejemplo**: *collatz(9)* = [9, 28, 14, 7, 22, 11, 34, 17, 52, 26, 13, 40, 20, 10, 5, 16, 8, 4, 2, 1]"
   ]
  },
  {
   "cell_type": "code",
   "execution_count": 16,
   "metadata": {},
   "outputs": [],
   "source": [
    "def collatz(n:int):\n",
    "    \"\"\"\n",
    "    collatz(n)\n",
    "\n",
    "    Aplicacion de la conjetura de collatz.\n",
    "\n",
    "    Parameters\n",
    "    ----------\n",
    "    n : int\n",
    "        Numero entero al cual se aplicara el ciclo. \n",
    "\n",
    "    Returns\n",
    "    -------\n",
    "    output : list\n",
    "        Lista de numeros hasta llegar a 1.\n",
    "        \n",
    "    Examples\n",
    "    --------\n",
    "    >>> collatz(30)\n",
    "        [30, 15, 46, 23, 70, 35, 106, 53, 160, 80, 40, 20, 10, 5, 16, 8, 4, 2, 1]\n",
    "    \n",
    "    >>> collatz(23) \n",
    "        [23, 70, 35, 106, 53, 160, 80, 40, 20, 10, 5, 16, 8, 4, 2, 1]\n",
    "    \"\"\"\n",
    "    lista = [] #Se crea una lista vacia\n",
    "    num = n\n",
    "    lista.append(int(num))\n",
    "    while num != 1: #Ciclo que se repitira hasta llegar a 1\n",
    "        if num%2 == 0: #Se verifica si es par \n",
    "            num = num/2 #Se divide por 2\n",
    "            lista.append(int(num)) #Agregamos el numero a la lista\n",
    "        else: #Caso de que num sea impar\n",
    "            num = num*3 +1 #se multiplica por 3 y se le suma 1\n",
    "            lista.append(int(num))\n",
    "    return lista\n",
    "    "
   ]
  },
  {
   "cell_type": "code",
   "execution_count": 17,
   "metadata": {},
   "outputs": [
    {
     "name": "stdout",
     "output_type": "stream",
     "text": [
      "Help on function collatz in module __main__:\n",
      "\n",
      "collatz(n: int)\n",
      "    collatz(n)\n",
      "    \n",
      "    Aplicacion de la conjetura de collatz.\n",
      "    \n",
      "    Parameters\n",
      "    ----------\n",
      "    n : int\n",
      "        Numero entero al cual se aplicara el ciclo. \n",
      "    \n",
      "    Returns\n",
      "    -------\n",
      "    output : list\n",
      "        Lista de numeros hasta llegar a 1.\n",
      "        \n",
      "    Examples\n",
      "    --------\n",
      "    >>> collatz(30)\n",
      "        [30, 15, 46, 23, 70, 35, 106, 53, 160, 80, 40, 20, 10, 5, 16, 8, 4, 2, 1]\n",
      "    \n",
      "    >>> collatz(23) \n",
      "        [23, 70, 35, 106, 53, 160, 80, 40, 20, 10, 5, 16, 8, 4, 2, 1]\n",
      "\n"
     ]
    }
   ],
   "source": [
    "#Documentacion de la funcion\n",
    "help(collatz)"
   ]
  },
  {
   "cell_type": "markdown",
   "metadata": {},
   "source": [
    "### Verificar ejemplos:"
   ]
  },
  {
   "cell_type": "code",
   "execution_count": 18,
   "metadata": {},
   "outputs": [],
   "source": [
    "# ejemplo 01\n",
    "assert collatz(9) == [9, 28, 14, 7, 22, 11, 34, 17, 52, 26, 13, 40, 20, 10, 5, 16, 8, 4, 2, 1], \"ejemplo 01 incorrecto\""
   ]
  },
  {
   "cell_type": "markdown",
   "metadata": {},
   "source": [
    "<a id='p4'></a>\n",
    "\n",
    "## Problema 04\n",
    "\n",
    "La [conjetura de Goldbach](https://en.wikipedia.org/wiki/Goldbach%27s_conjecture) es uno de los problemas abiertos más antiguos en matemáticas. Concretamente, G.H. Hardy, en 1921, en su famoso discurso pronunciado en la Sociedad Matemática de Copenhague, comentó que probablemente la conjetura de Goldbach no es solo uno de los problemas no resueltos más difíciles de la teoría de números, sino de todas las matemáticas. Su enunciado es el siguiente:\n",
    "\n",
    "$$\\textrm{Todo número par mayor que 2 puede escribirse como suma de dos números primos - Christian Goldbach (1742)}$$\n",
    "\n",
    "Implemente una función llamada `goldbach` cuyo input sea un número natural positivo $N$ y como output devuelva la suma de dos primos ($N1$ y $N2$) tal que: $N1+N2=N$. \n",
    "\n",
    " * **Ejemplo**: goldbash(4) = (2,2), goldbash(6) = (3,3) , goldbash(8) = (3,5)"
   ]
  },
  {
   "cell_type": "code",
   "execution_count": 25,
   "metadata": {},
   "outputs": [],
   "source": [
    "def primo(n:int):\n",
    "    \"\"\"\n",
    "    primo(n)\n",
    "\n",
    "    Determinar si n es primo o no.\n",
    "\n",
    "    Parameters\n",
    "    ----------\n",
    "    n : int\n",
    "        Numero que se determinara si es primo o no.\n",
    "    Returns\n",
    "    -------\n",
    "    output : Bolean\n",
    "        Valor de verdad de si n es primo.\n",
    "        \n",
    "    Examples\n",
    "    --------\n",
    "    >>> primo(2)\n",
    "        True\n",
    "    \n",
    "    >>> primo(12) \n",
    "        False\n",
    "    \"\"\"\n",
    "    divisores = [] #Iniciamos una lista\n",
    "    for i in range(1,n+1): #Iteracion para ver los  divisores de n\n",
    "        if n%i == 0: #Se determina si es divisor o no\n",
    "            divisores.append(i) #Si lo es se agrega a la lista\n",
    "    if len(divisores) == 2: #Si es primo retorna true\n",
    "        return True\n",
    "    else:\n",
    "        return False"
   ]
  },
  {
   "cell_type": "code",
   "execution_count": 37,
   "metadata": {},
   "outputs": [],
   "source": [
    "def goldbash(n:int):\n",
    "    \"\"\"\n",
    "    goldbach(n)\n",
    "\n",
    "    Aplicacion de la conjetura de golbach.\n",
    "\n",
    "    Parameters\n",
    "    ----------\n",
    "    n : int\n",
    "        Numero entero al cual se le buscara los dos numeros primos.\n",
    "\n",
    "    Returns\n",
    "    -------\n",
    "    output : tuple\n",
    "        tupla de los numeros primos.\n",
    "        \n",
    "    Examples\n",
    "    --------\n",
    "    >>> goldbach(18)\n",
    "        (13, 5)\n",
    "    \n",
    "    >>> goldbach(8) \n",
    "        (5, 3)\n",
    "    \"\"\"\n",
    "    if n%2 != 0:\n",
    "        return \"n no es un numero par\"\n",
    "    for i in range(1,n):\n",
    "        for k in range(1,n): #Doble ciclo for para ver los divisores primos que puedan sumar n\n",
    "            if primo(k) and primo(i) and i+k==n:#Si k e i son primos y ademas suman n sigue adelante\n",
    "                if k>i:\n",
    "                    tupla = (i,k)\n",
    "                else: \n",
    "                    tupla = (k,i)#Se define la tupla de los numeros primos\n",
    "                return tupla #retorna los numeros primos que suman n\n",
    "    "
   ]
  },
  {
   "cell_type": "code",
   "execution_count": 38,
   "metadata": {},
   "outputs": [
    {
     "name": "stdout",
     "output_type": "stream",
     "text": [
      "Help on function goldbach in module __main__:\n",
      "\n",
      "goldbach(n: int)\n",
      "    goldbach(n)\n",
      "    \n",
      "    Aplicacion de la conjetura de golbach.\n",
      "    \n",
      "    Parameters\n",
      "    ----------\n",
      "    n : int\n",
      "        Numero entero al cual se le buscara los dos numeros primos.\n",
      "    \n",
      "    Returns\n",
      "    -------\n",
      "    output : tuple\n",
      "        tupla de los numeros primos.\n",
      "        \n",
      "    Examples\n",
      "    --------\n",
      "    >>> goldbach(18)\n",
      "        (13, 5)\n",
      "    \n",
      "    >>> goldbach(8) \n",
      "        (5, 3)\n",
      "\n"
     ]
    }
   ],
   "source": [
    "#Documentacion de la funcion\n",
    "help(goldbach)"
   ]
  },
  {
   "cell_type": "markdown",
   "metadata": {},
   "source": [
    "### Verificar ejemplos:"
   ]
  },
  {
   "cell_type": "code",
   "execution_count": 39,
   "metadata": {},
   "outputs": [],
   "source": [
    "# ejemplo 01\n",
    "assert  goldbash(4) == (2,2), \"ejemplo 01 incorrecto\""
   ]
  },
  {
   "cell_type": "code",
   "execution_count": 40,
   "metadata": {},
   "outputs": [],
   "source": [
    "# ejemplo 02\n",
    "assert goldbash(6) == (3,3), \"ejemplo 02 incorrecto\""
   ]
  },
  {
   "cell_type": "code",
   "execution_count": 41,
   "metadata": {},
   "outputs": [],
   "source": [
    "# ejemplo 03\n",
    "assert goldbash(8) == (3,5), \"ejemplo 03 incorrecto\""
   ]
  }
 ],
 "metadata": {
  "kernelspec": {
   "display_name": "Python 3",
   "language": "python",
   "name": "python3"
  },
  "language_info": {
   "codemirror_mode": {
    "name": "ipython",
    "version": 3
   },
   "file_extension": ".py",
   "mimetype": "text/x-python",
   "name": "python",
   "nbconvert_exporter": "python",
   "pygments_lexer": "ipython3",
   "version": "3.7.8"
  }
 },
 "nbformat": 4,
 "nbformat_minor": 4
}
