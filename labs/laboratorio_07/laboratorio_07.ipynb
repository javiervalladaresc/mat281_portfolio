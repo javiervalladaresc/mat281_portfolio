{
 "cells": [
  {
   "cell_type": "markdown",
   "metadata": {},
   "source": [
    "<img src=\"images/usm.jpg\" width=\"480\" height=\"240\" align=\"left\"/>"
   ]
  },
  {
   "cell_type": "markdown",
   "metadata": {},
   "source": [
    "# MAT281 - Laboratorios N°01\n",
    "\n",
    "## Objetivos del laboratorio\n",
    "\n",
    "* Reforzar conceptos básicos de regresión lineal."
   ]
  },
  {
   "cell_type": "markdown",
   "metadata": {},
   "source": [
    "## Contenidos\n",
    "\n",
    "* [Problema 01](#p1)\n"
   ]
  },
  {
   "cell_type": "markdown",
   "metadata": {},
   "source": [
    "<a id='p1'></a>\n",
    "## I.- Problema 01\n",
    "\n",
    "\n",
    "<img src=\"https://upload.wikimedia.org/wikipedia/commons/thumb/b/b6/Anscombe.svg/1200px-Anscombe.svg.png\" width=\"360\" height=\"360\" align=\"center\"/>\n",
    "\n"
   ]
  },
  {
   "cell_type": "markdown",
   "metadata": {},
   "source": [
    "El **cuarteto de Anscombe** comprende cuatro conjuntos de datos que tienen las mismas propiedades estadísticas, pero que evidentemente son distintas al inspeccionar sus gráficos respectivos.\n",
    "\n",
    "Cada conjunto consiste de once puntos (x, y) y fueron construidos por el estadístico F. J. Anscombe. El cuarteto es una demostración de la importancia de mirar gráficamente un conjunto de datos antes de analizarlos."
   ]
  },
  {
   "cell_type": "code",
   "execution_count": 1,
   "metadata": {},
   "outputs": [],
   "source": [
    "import os\n",
    "import numpy as np\n",
    "import pandas as pd\n",
    "import matplotlib.pyplot as plt\n",
    "import seaborn as sns\n",
    "\n",
    "%matplotlib inline\n",
    "sns.set_palette(\"deep\", desat=.6)\n",
    "sns.set(rc={'figure.figsize':(11.7,8.27)})"
   ]
  },
  {
   "cell_type": "code",
   "execution_count": 2,
   "metadata": {},
   "outputs": [
    {
     "data": {
      "text/html": [
       "<div>\n",
       "<style scoped>\n",
       "    .dataframe tbody tr th:only-of-type {\n",
       "        vertical-align: middle;\n",
       "    }\n",
       "\n",
       "    .dataframe tbody tr th {\n",
       "        vertical-align: top;\n",
       "    }\n",
       "\n",
       "    .dataframe thead th {\n",
       "        text-align: right;\n",
       "    }\n",
       "</style>\n",
       "<table border=\"1\" class=\"dataframe\">\n",
       "  <thead>\n",
       "    <tr style=\"text-align: right;\">\n",
       "      <th></th>\n",
       "      <th>x</th>\n",
       "      <th>y</th>\n",
       "      <th>grupo</th>\n",
       "    </tr>\n",
       "  </thead>\n",
       "  <tbody>\n",
       "    <tr>\n",
       "      <th>0</th>\n",
       "      <td>10</td>\n",
       "      <td>8.04</td>\n",
       "      <td>Grupo_1</td>\n",
       "    </tr>\n",
       "    <tr>\n",
       "      <th>1</th>\n",
       "      <td>8</td>\n",
       "      <td>6.95</td>\n",
       "      <td>Grupo_1</td>\n",
       "    </tr>\n",
       "    <tr>\n",
       "      <th>2</th>\n",
       "      <td>13</td>\n",
       "      <td>7.58</td>\n",
       "      <td>Grupo_1</td>\n",
       "    </tr>\n",
       "    <tr>\n",
       "      <th>3</th>\n",
       "      <td>9</td>\n",
       "      <td>8.81</td>\n",
       "      <td>Grupo_1</td>\n",
       "    </tr>\n",
       "    <tr>\n",
       "      <th>4</th>\n",
       "      <td>11</td>\n",
       "      <td>8.33</td>\n",
       "      <td>Grupo_1</td>\n",
       "    </tr>\n",
       "  </tbody>\n",
       "</table>\n",
       "</div>"
      ],
      "text/plain": [
       "    x     y    grupo\n",
       "0  10  8.04  Grupo_1\n",
       "1   8  6.95  Grupo_1\n",
       "2  13  7.58  Grupo_1\n",
       "3   9  8.81  Grupo_1\n",
       "4  11  8.33  Grupo_1"
      ]
     },
     "execution_count": 2,
     "metadata": {},
     "output_type": "execute_result"
    }
   ],
   "source": [
    "# cargar datos\n",
    "df = pd.read_csv(os.path.join(\"data\",\"anscombe.csv\"), sep=\",\")\n",
    "df.head()"
   ]
  },
  {
   "cell_type": "code",
   "execution_count": 3,
   "metadata": {},
   "outputs": [
    {
     "data": {
      "text/plain": [
       "Index(['x', 'y', 'grupo'], dtype='object')"
      ]
     },
     "execution_count": 3,
     "metadata": {},
     "output_type": "execute_result"
    }
   ],
   "source": [
    "df.columns"
   ]
  },
  {
   "cell_type": "code",
   "execution_count": 4,
   "metadata": {},
   "outputs": [
    {
     "data": {
      "text/plain": [
       "array(['Grupo_1', 'Grupo_2', 'Grupo_3', 'Grupo_4'], dtype=object)"
      ]
     },
     "execution_count": 4,
     "metadata": {},
     "output_type": "execute_result"
    }
   ],
   "source": [
    "df[\"grupo\"].unique()"
   ]
  },
  {
   "cell_type": "markdown",
   "metadata": {},
   "source": [
    "Basado en la información presentada responda las siguientes preguntas:\n",
    "\n",
    "1. Gráfique mediante un gráfico tipo **scatter** cada grupo. A simple vista, ¿ los grupos son muy distintos entre si?.\n",
    "\n",
    "\n",
    "\n",
    " "
   ]
  },
  {
   "cell_type": "code",
   "execution_count": 5,
   "metadata": {},
   "outputs": [
    {
     "data": {
      "image/png": "[encoded data removed]",
      "text/plain": [
       "<Figure size 720x720 with 4 Axes>"
      ]
     },
     "metadata": {},
     "output_type": "display_data"
    }
   ],
   "source": [
    "sns.set(rc={'figure.figsize':(10,10)}) # Iniciamos una figura para poner los graficos\n",
    "\n",
    "#Creamos las máscaras para cada grupo\n",
    "mask_1 = df[\"grupo\"] == \"Grupo_1\"\n",
    "mask_2 = df[\"grupo\"] == \"Grupo_2\"\n",
    "mask_3 = df[\"grupo\"] == \"Grupo_3\"\n",
    "mask_4 = df[\"grupo\"] == \"Grupo_4\"\n",
    "\n",
    "#Graficamos cada grupo en un distinto gráfico, aplicando las máscaras a cada grupo de datos\n",
    "plt.subplot(2,2,1)\n",
    "sns.scatterplot(\n",
    "    x=\"x\",\n",
    "    y='y',\n",
    "    data=df[mask_1],\n",
    ")  \n",
    "plt.subplot(2,2,2)\n",
    "sns.scatterplot(\n",
    "    x=\"x\",\n",
    "    y='y',\n",
    "    data=df[mask_2],\n",
    ")  \n",
    "plt.subplot(2,2,3)\n",
    "sns.scatterplot(\n",
    "    x=\"x\",\n",
    "    y='y',\n",
    "    data=df[mask_3],\n",
    ")  \n",
    "plt.subplot(2,2,4)\n",
    "sns.scatterplot(\n",
    "    x=\"x\",\n",
    "    y='y',\n",
    "    data=df[mask_4],\n",
    ")  \n",
    "plt.show()"
   ]
  },
  {
   "cell_type": "markdown",
   "metadata": {},
   "source": [
    "Claramente los grupos son distintos entre si, ya que algunos son demasiado dispersos como lo es el grupo 1, mientras que el grupo 2 se asemeja a una función cuadratica, por otro lado el grupo 3 es una función lineal con un outlier y finalmente el grupo 4 que se asemeja a una recta con pendiente infinita además de un outlier."
   ]
  },
  {
   "cell_type": "markdown",
   "metadata": {},
   "source": [
    "2. Realice un resumen de las medidas estadísticas más significativas ocuapando el comando **describe** para cada grupo. Interprete."
   ]
  },
  {
   "cell_type": "code",
   "execution_count": 6,
   "metadata": {},
   "outputs": [
    {
     "data": {
      "text/html": [
       "<div>\n",
       "<style scoped>\n",
       "    .dataframe tbody tr th:only-of-type {\n",
       "        vertical-align: middle;\n",
       "    }\n",
       "\n",
       "    .dataframe tbody tr th {\n",
       "        vertical-align: top;\n",
       "    }\n",
       "\n",
       "    .dataframe thead th {\n",
       "        text-align: right;\n",
       "    }\n",
       "</style>\n",
       "<table border=\"1\" class=\"dataframe\">\n",
       "  <thead>\n",
       "    <tr style=\"text-align: right;\">\n",
       "      <th></th>\n",
       "      <th>x</th>\n",
       "      <th>y</th>\n",
       "    </tr>\n",
       "  </thead>\n",
       "  <tbody>\n",
       "    <tr>\n",
       "      <th>count</th>\n",
       "      <td>11.000000</td>\n",
       "      <td>11.000000</td>\n",
       "    </tr>\n",
       "    <tr>\n",
       "      <th>mean</th>\n",
       "      <td>9.000000</td>\n",
       "      <td>7.500909</td>\n",
       "    </tr>\n",
       "    <tr>\n",
       "      <th>std</th>\n",
       "      <td>3.316625</td>\n",
       "      <td>2.031568</td>\n",
       "    </tr>\n",
       "    <tr>\n",
       "      <th>min</th>\n",
       "      <td>4.000000</td>\n",
       "      <td>4.260000</td>\n",
       "    </tr>\n",
       "    <tr>\n",
       "      <th>25%</th>\n",
       "      <td>6.500000</td>\n",
       "      <td>6.315000</td>\n",
       "    </tr>\n",
       "    <tr>\n",
       "      <th>50%</th>\n",
       "      <td>9.000000</td>\n",
       "      <td>7.580000</td>\n",
       "    </tr>\n",
       "    <tr>\n",
       "      <th>75%</th>\n",
       "      <td>11.500000</td>\n",
       "      <td>8.570000</td>\n",
       "    </tr>\n",
       "    <tr>\n",
       "      <th>max</th>\n",
       "      <td>14.000000</td>\n",
       "      <td>10.840000</td>\n",
       "    </tr>\n",
       "  </tbody>\n",
       "</table>\n",
       "</div>"
      ],
      "text/plain": [
       "               x          y\n",
       "count  11.000000  11.000000\n",
       "mean    9.000000   7.500909\n",
       "std     3.316625   2.031568\n",
       "min     4.000000   4.260000\n",
       "25%     6.500000   6.315000\n",
       "50%     9.000000   7.580000\n",
       "75%    11.500000   8.570000\n",
       "max    14.000000  10.840000"
      ]
     },
     "execution_count": 6,
     "metadata": {},
     "output_type": "execute_result"
    }
   ],
   "source": [
    "df[mask_1].describe() #Aplicamos el comando describe() a cada grupo"
   ]
  },
  {
   "cell_type": "code",
   "execution_count": 7,
   "metadata": {},
   "outputs": [
    {
     "data": {
      "text/html": [
       "<div>\n",
       "<style scoped>\n",
       "    .dataframe tbody tr th:only-of-type {\n",
       "        vertical-align: middle;\n",
       "    }\n",
       "\n",
       "    .dataframe tbody tr th {\n",
       "        vertical-align: top;\n",
       "    }\n",
       "\n",
       "    .dataframe thead th {\n",
       "        text-align: right;\n",
       "    }\n",
       "</style>\n",
       "<table border=\"1\" class=\"dataframe\">\n",
       "  <thead>\n",
       "    <tr style=\"text-align: right;\">\n",
       "      <th></th>\n",
       "      <th>x</th>\n",
       "      <th>y</th>\n",
       "    </tr>\n",
       "  </thead>\n",
       "  <tbody>\n",
       "    <tr>\n",
       "      <th>count</th>\n",
       "      <td>11.000000</td>\n",
       "      <td>11.000000</td>\n",
       "    </tr>\n",
       "    <tr>\n",
       "      <th>mean</th>\n",
       "      <td>9.000000</td>\n",
       "      <td>7.500909</td>\n",
       "    </tr>\n",
       "    <tr>\n",
       "      <th>std</th>\n",
       "      <td>3.316625</td>\n",
       "      <td>2.031657</td>\n",
       "    </tr>\n",
       "    <tr>\n",
       "      <th>min</th>\n",
       "      <td>4.000000</td>\n",
       "      <td>3.100000</td>\n",
       "    </tr>\n",
       "    <tr>\n",
       "      <th>25%</th>\n",
       "      <td>6.500000</td>\n",
       "      <td>6.695000</td>\n",
       "    </tr>\n",
       "    <tr>\n",
       "      <th>50%</th>\n",
       "      <td>9.000000</td>\n",
       "      <td>8.140000</td>\n",
       "    </tr>\n",
       "    <tr>\n",
       "      <th>75%</th>\n",
       "      <td>11.500000</td>\n",
       "      <td>8.950000</td>\n",
       "    </tr>\n",
       "    <tr>\n",
       "      <th>max</th>\n",
       "      <td>14.000000</td>\n",
       "      <td>9.260000</td>\n",
       "    </tr>\n",
       "  </tbody>\n",
       "</table>\n",
       "</div>"
      ],
      "text/plain": [
       "               x          y\n",
       "count  11.000000  11.000000\n",
       "mean    9.000000   7.500909\n",
       "std     3.316625   2.031657\n",
       "min     4.000000   3.100000\n",
       "25%     6.500000   6.695000\n",
       "50%     9.000000   8.140000\n",
       "75%    11.500000   8.950000\n",
       "max    14.000000   9.260000"
      ]
     },
     "execution_count": 7,
     "metadata": {},
     "output_type": "execute_result"
    }
   ],
   "source": [
    "df[mask_2].describe()"
   ]
  },
  {
   "cell_type": "code",
   "execution_count": 8,
   "metadata": {},
   "outputs": [
    {
     "data": {
      "text/html": [
       "<div>\n",
       "<style scoped>\n",
       "    .dataframe tbody tr th:only-of-type {\n",
       "        vertical-align: middle;\n",
       "    }\n",
       "\n",
       "    .dataframe tbody tr th {\n",
       "        vertical-align: top;\n",
       "    }\n",
       "\n",
       "    .dataframe thead th {\n",
       "        text-align: right;\n",
       "    }\n",
       "</style>\n",
       "<table border=\"1\" class=\"dataframe\">\n",
       "  <thead>\n",
       "    <tr style=\"text-align: right;\">\n",
       "      <th></th>\n",
       "      <th>x</th>\n",
       "      <th>y</th>\n",
       "    </tr>\n",
       "  </thead>\n",
       "  <tbody>\n",
       "    <tr>\n",
       "      <th>count</th>\n",
       "      <td>11.000000</td>\n",
       "      <td>11.000000</td>\n",
       "    </tr>\n",
       "    <tr>\n",
       "      <th>mean</th>\n",
       "      <td>9.000000</td>\n",
       "      <td>7.500000</td>\n",
       "    </tr>\n",
       "    <tr>\n",
       "      <th>std</th>\n",
       "      <td>3.316625</td>\n",
       "      <td>2.030424</td>\n",
       "    </tr>\n",
       "    <tr>\n",
       "      <th>min</th>\n",
       "      <td>4.000000</td>\n",
       "      <td>5.390000</td>\n",
       "    </tr>\n",
       "    <tr>\n",
       "      <th>25%</th>\n",
       "      <td>6.500000</td>\n",
       "      <td>6.250000</td>\n",
       "    </tr>\n",
       "    <tr>\n",
       "      <th>50%</th>\n",
       "      <td>9.000000</td>\n",
       "      <td>7.110000</td>\n",
       "    </tr>\n",
       "    <tr>\n",
       "      <th>75%</th>\n",
       "      <td>11.500000</td>\n",
       "      <td>7.980000</td>\n",
       "    </tr>\n",
       "    <tr>\n",
       "      <th>max</th>\n",
       "      <td>14.000000</td>\n",
       "      <td>12.740000</td>\n",
       "    </tr>\n",
       "  </tbody>\n",
       "</table>\n",
       "</div>"
      ],
      "text/plain": [
       "               x          y\n",
       "count  11.000000  11.000000\n",
       "mean    9.000000   7.500000\n",
       "std     3.316625   2.030424\n",
       "min     4.000000   5.390000\n",
       "25%     6.500000   6.250000\n",
       "50%     9.000000   7.110000\n",
       "75%    11.500000   7.980000\n",
       "max    14.000000  12.740000"
      ]
     },
     "execution_count": 8,
     "metadata": {},
     "output_type": "execute_result"
    }
   ],
   "source": [
    "df[mask_3].describe()"
   ]
  },
  {
   "cell_type": "code",
   "execution_count": 9,
   "metadata": {},
   "outputs": [
    {
     "data": {
      "text/html": [
       "<div>\n",
       "<style scoped>\n",
       "    .dataframe tbody tr th:only-of-type {\n",
       "        vertical-align: middle;\n",
       "    }\n",
       "\n",
       "    .dataframe tbody tr th {\n",
       "        vertical-align: top;\n",
       "    }\n",
       "\n",
       "    .dataframe thead th {\n",
       "        text-align: right;\n",
       "    }\n",
       "</style>\n",
       "<table border=\"1\" class=\"dataframe\">\n",
       "  <thead>\n",
       "    <tr style=\"text-align: right;\">\n",
       "      <th></th>\n",
       "      <th>x</th>\n",
       "      <th>y</th>\n",
       "    </tr>\n",
       "  </thead>\n",
       "  <tbody>\n",
       "    <tr>\n",
       "      <th>count</th>\n",
       "      <td>11.000000</td>\n",
       "      <td>11.000000</td>\n",
       "    </tr>\n",
       "    <tr>\n",
       "      <th>mean</th>\n",
       "      <td>9.000000</td>\n",
       "      <td>7.500909</td>\n",
       "    </tr>\n",
       "    <tr>\n",
       "      <th>std</th>\n",
       "      <td>3.316625</td>\n",
       "      <td>2.030579</td>\n",
       "    </tr>\n",
       "    <tr>\n",
       "      <th>min</th>\n",
       "      <td>8.000000</td>\n",
       "      <td>5.250000</td>\n",
       "    </tr>\n",
       "    <tr>\n",
       "      <th>25%</th>\n",
       "      <td>8.000000</td>\n",
       "      <td>6.170000</td>\n",
       "    </tr>\n",
       "    <tr>\n",
       "      <th>50%</th>\n",
       "      <td>8.000000</td>\n",
       "      <td>7.040000</td>\n",
       "    </tr>\n",
       "    <tr>\n",
       "      <th>75%</th>\n",
       "      <td>8.000000</td>\n",
       "      <td>8.190000</td>\n",
       "    </tr>\n",
       "    <tr>\n",
       "      <th>max</th>\n",
       "      <td>19.000000</td>\n",
       "      <td>12.500000</td>\n",
       "    </tr>\n",
       "  </tbody>\n",
       "</table>\n",
       "</div>"
      ],
      "text/plain": [
       "               x          y\n",
       "count  11.000000  11.000000\n",
       "mean    9.000000   7.500909\n",
       "std     3.316625   2.030579\n",
       "min     8.000000   5.250000\n",
       "25%     8.000000   6.170000\n",
       "50%     8.000000   7.040000\n",
       "75%     8.000000   8.190000\n",
       "max    19.000000  12.500000"
      ]
     },
     "execution_count": 9,
     "metadata": {},
     "output_type": "execute_result"
    }
   ],
   "source": [
    "df[mask_4].describe()"
   ]
  },
  {
   "cell_type": "markdown",
   "metadata": {},
   "source": [
    "Vemos que los promedios de los 4 grupos son bastante similares, tanto para los datos \"x\" como los datos \"y\", por lo tanto viendo estos datos sería dificil saber lo diferentes que son como vimos en la pregunta 1. Del mismo modo la varianza tambien tiene valores similares para estos 4 grupos, por lo cual solo mirando estos datos se podría concluir que son bastante parecidos."
   ]
  },
  {
   "cell_type": "markdown",
   "metadata": {},
   "source": [
    "3. Realice un ajuste lineal para cada grupo. Además, grafique los resultados de la regresión lineal para cada grupo. Interprete."
   ]
  },
  {
   "cell_type": "code",
   "execution_count": 10,
   "metadata": {},
   "outputs": [
    {
     "data": {
      "image/png": "[encoded data removed]",
      "text/plain": [
       "<Figure size 792x612 with 1 Axes>"
      ]
     },
     "metadata": {},
     "output_type": "display_data"
    }
   ],
   "source": [
    "#Importamos las librerías necesarias\n",
    "from sklearn import datasets\n",
    "from sklearn.model_selection import train_test_split\n",
    "from sklearn.linear_model import LinearRegression\n",
    "\n",
    "model_1 = LinearRegression() # Iniciamos el modelo de regresión.\n",
    "\n",
    "aux_1 =  df[mask_1] #Creamos un dataframe auxiliar con la máscara del grupo\n",
    "\n",
    "#Iniciamos los datos x e y\n",
    "X_1 =aux_1[['x']]\n",
    "y_1 = aux_1['y']\n",
    "\n",
    "#Definimos los datos de testeo y entrenamiento\n",
    "X_train1, X_test1, y_train1, y_test1 = train_test_split(X_1, y_1, test_size=0.2, random_state=42) \n",
    "\n",
    "\n",
    "# Ajustamos el modelo con los datos \n",
    "model_1.fit(X_train1, y_train1)\n",
    "\n",
    "# Iniciamos los coeficientes del modelo       \n",
    "beta_0 = model_1.intercept_\n",
    "beta_1 = model_1.coef_[0]\n",
    "\n",
    "#Iniciamos el rango de los datos de x para graficar        \n",
    "x_range1 = np.arange(3,15,1)\n",
    "\n",
    "#Iniciamos un dataframe con los datos que queremos graficar        \n",
    "df_plot = pd.DataFrame({'x':x_range1,\n",
    "                        'y_true':[beta_0 + beta_1*n for n in x_range1]})\n",
    "\n",
    "#Definimos un dataframe auxiliar\n",
    "aux = pd.DataFrame({'x':X_1['x'],\n",
    "                           'y_true':y_1})\n",
    "\n",
    "#Definimos la figura y graficamos los datos y la recta\n",
    "fig, ax = plt.subplots(figsize=(11, 8.5))\n",
    "        \n",
    "        \n",
    "sns.scatterplot(x='x', y='y_true', data=aux, ax=ax)\n",
    "sns.lineplot(x='x', y='y_true', data=df_plot,ax=ax,color=\"red\")\n",
    "\n",
    "plt.xlabel('x')\n",
    "plt.ylabel('y')\n",
    "plt.show()"
   ]
  },
  {
   "cell_type": "markdown",
   "metadata": {},
   "source": [
    "Para este grupo 1 se puede ver que la regresión lineal entrega una recta bastante aceptable, ya que aproxima de manera decente los datos."
   ]
  },
  {
   "cell_type": "code",
   "execution_count": 11,
   "metadata": {},
   "outputs": [
    {
     "data": {
      "image/png": "[encoded data removed]",
      "text/plain": [
       "<Figure size 792x612 with 1 Axes>"
      ]
     },
     "metadata": {},
     "output_type": "display_data"
    }
   ],
   "source": [
    "model_2 = LinearRegression() # Iniciamos el modelo de regresión.\n",
    "\n",
    "aux_2 =  df[mask_2]#Creamos un dataframe auxiliar con la máscara del grupo\n",
    "\n",
    "#Iniciamos los datos x e y\n",
    "X_2 =aux_2[['x']]\n",
    "y_2 = aux_2['y']\n",
    "\n",
    "#Definimos los datos de testeo y entrenamiento\n",
    "X_train2, X_test2, y_train2, y_test2 = train_test_split(X_2, y_2, test_size=0.2, random_state=42)\n",
    "\n",
    "\n",
    "# Ajustamos el modelo con los datos \n",
    "model_2.fit(X_train2, y_train2)\n",
    "\n",
    "# Iniciamos los coeficientes del modelo\n",
    "beta_0_2 = model_2.intercept_\n",
    "beta_1_2 = model_2.coef_[0]\n",
    "\n",
    "#Iniciamos el rango de los datos de x para graficar\n",
    "x_range2 = np.arange(3,15,1)\n",
    "\n",
    "#Iniciamos un dataframe con los datos que queremos graficar \n",
    "df_plot_2 = pd.DataFrame({'x':x_range1,\n",
    "                        'y_true':[beta_0_2 + beta_1_2*n for n in x_range2]})\n",
    "  \n",
    "#Definimos un dataframe auxiliar\n",
    "aux2 = pd.DataFrame({'x':X_2['x'],\n",
    "                           'y_true':y_2})\n",
    "        \n",
    "fig, ax = plt.subplots(figsize=(11, 8.5))\n",
    "        \n",
    "        \n",
    "sns.scatterplot(x='x', y='y_true', data=aux2, ax=ax)\n",
    "sns.lineplot(x='x', y='y_true', data=df_plot_2,ax=ax,color=\"red\")\n",
    "\n",
    "plt.xlabel('x')\n",
    "plt.ylabel('y')\n",
    "plt.show()"
   ]
  },
  {
   "cell_type": "markdown",
   "metadata": {},
   "source": [
    "Para este grupo 2 podriamos decir que una aproximación lineal no es tan apropiada, debido a que claramente los datos representan una función cuadratica, por lo que podemos decir que la recta que entrega la regresión lineal no es tan buena."
   ]
  },
  {
   "cell_type": "code",
   "execution_count": 12,
   "metadata": {},
   "outputs": [
    {
     "data": {
      "image/png": "[encoded data removed]",
      "text/plain": [
       "<Figure size 792x612 with 1 Axes>"
      ]
     },
     "metadata": {},
     "output_type": "display_data"
    }
   ],
   "source": [
    "model_3 = LinearRegression() # Iniciamos el modelo de regresión.\n",
    "\n",
    "aux_3 =  df[mask_3]#Creamos un dataframe auxiliar con la máscara del grupo\n",
    "\n",
    "#Iniciamos los datos x e y\n",
    "X_3 =aux_3[['x']]\n",
    "y_3 = aux_3['y']\n",
    "\n",
    "#Definimos los datos de testeo y entrenamiento\n",
    "X_train3, X_test3, y_train3, y_test3 = train_test_split(X_3, y_3, test_size=0.2, random_state=42)\n",
    "\n",
    "\n",
    "# Ajustamos el modelo con los datos \n",
    "model_3.fit(X_train3, y_train3)\n",
    "\n",
    "# Iniciamos los coeficientes del modelo   \n",
    "beta_0_3 = model_3.intercept_\n",
    "beta_1_3 = model_3.coef_[0]\n",
    "        \n",
    "#Iniciamos el rango de los datos de x para graficar\n",
    "x_range3 = np.arange(3,15,1)\n",
    "\n",
    "#Iniciamos un dataframe con los datos que queremos graficar \n",
    "df_plot_3 = pd.DataFrame({'x':x_range3,\n",
    "                        'y_true':[beta_0_3 + beta_1_3*n for n in x_range3]})\n",
    "  \n",
    "#Definimos un dataframe auxiliar\n",
    "aux3 = pd.DataFrame({'x':X_3['x'],\n",
    "                           'y_true':y_3})\n",
    "        \n",
    "fig, ax = plt.subplots(figsize=(11, 8.5))\n",
    "        \n",
    "        \n",
    "sns.scatterplot(x='x', y='y_true', data=aux3, ax=ax)\n",
    "sns.lineplot(x='x', y='y_true', data=df_plot_3,ax=ax,color=\"red\")\n",
    "\n",
    "plt.xlabel('x')\n",
    "plt.ylabel('y')\n",
    "plt.show()"
   ]
  },
  {
   "cell_type": "markdown",
   "metadata": {},
   "source": [
    "Para el grupo 3 vemos claramente que el outlier distorciona completamente la recta de la regresión lineal, ya que claramente los datos representan una recta pero ese outlier impide identificar de buena manera esta recta, es por eso que se podría mejorar esta regresión."
   ]
  },
  {
   "cell_type": "code",
   "execution_count": 13,
   "metadata": {},
   "outputs": [
    {
     "data": {
      "image/png": "[encoded data removed]",
      "text/plain": [
       "<Figure size 792x612 with 1 Axes>"
      ]
     },
     "metadata": {},
     "output_type": "display_data"
    }
   ],
   "source": [
    "model_4 = LinearRegression() # Iniciamos el modelo de regresión.\n",
    "\n",
    "aux_4 =  df[mask_4]#Creamos un dataframe auxiliar con la máscara del grupo\n",
    "\n",
    "#Iniciamos los datos x e y\n",
    "X_4 =aux_4[['x']]\n",
    "y_4 = aux_4['y']\n",
    "\n",
    "#Definimos los datos de testeo y entrenamiento\n",
    "X_train4, X_test4, y_train4, y_test4 = train_test_split(X_4, y_4, test_size=0.2, random_state=42)\n",
    "\n",
    "\n",
    "# Ajustamos el modelo con los datos \n",
    "model_4.fit(X_train4, y_train4)\n",
    "\n",
    "# Iniciamos los coeficientes del modelo   \n",
    "beta_0_4 = model_4.intercept_\n",
    "beta_1_4 = model_4.coef_[0]\n",
    "\n",
    "#Iniciamos el rango de los datos de x para graficar\n",
    "x_range4 = np.arange(7,20,1)\n",
    "\n",
    "#Iniciamos un dataframe con los datos que queremos graficar \n",
    "df_plot_4 = pd.DataFrame({'x':x_range4,\n",
    "                        'y_true':[beta_0_4 + beta_1_4*n for n in x_range4]})\n",
    "\n",
    "#Definimos un dataframe auxiliar\n",
    "aux4 = pd.DataFrame({'x':X_4['x'],\n",
    "                           'y_true':y_4})\n",
    "        \n",
    "fig, ax = plt.subplots(figsize=(11, 8.5))\n",
    "        \n",
    "        \n",
    "sns.scatterplot(x='x', y='y_true', data=aux4, ax=ax)\n",
    "sns.lineplot(x='x', y='y_true', data=df_plot_4,ax=ax,color=\"red\")\n",
    "\n",
    "plt.xlabel('x')\n",
    "plt.ylabel('y')\n",
    "plt.show()"
   ]
  },
  {
   "cell_type": "markdown",
   "metadata": {},
   "source": [
    "Finalmente para este grupo 4 vemos que la regresión lineal no es para nada apropiada, más aun con el outlier, ya que representa una recta con pendiente infinito."
   ]
  },
  {
   "cell_type": "markdown",
   "metadata": {},
   "source": [
    "4. Calcule los resultados de las métricas para cada grupo. Interprete."
   ]
  },
  {
   "cell_type": "code",
   "execution_count": 14,
   "metadata": {},
   "outputs": [],
   "source": [
    "#Importamos las librerías necesarias\n",
    "from metrics_regression import *\n",
    "from sklearn.metrics import r2_score"
   ]
  },
  {
   "cell_type": "code",
   "execution_count": 15,
   "metadata": {},
   "outputs": [
    {
     "name": "stdout",
     "output_type": "stream",
     "text": [
      "\n",
      "Metricas para el regresor x:\n",
      "\n",
      "      mae     mse    rmse   mape   maape   wmape   mmape   smape      r2\n",
      "0  0.7161  1.2576  1.1214  0.142  0.1354  0.0941  0.1182  0.1196  0.7204\n"
     ]
    }
   ],
   "source": [
    "#Definimos el dataframe con los datos de testeo y los predecidos por el modelo\n",
    "df_temp1 = pd.DataFrame(\n",
    "    {\n",
    "        'y':y_test1,\n",
    "        'yhat': model_1.predict(X_test1)\n",
    "        }\n",
    ")\n",
    "\n",
    "\n",
    "#Calculamos los errores de las métricas y calculamos r2\n",
    "df_metrics1 = summary_metrics(df_temp1) #Definimos un dataframe para las métricas\n",
    "df_metrics1['r2'] =  round(r2_score(y_test1, model_1.predict(X_test1)),4)\n",
    "print('\\nMetricas para el regresor x:\\n')\n",
    "print(df_metrics1)\n"
   ]
  },
  {
   "cell_type": "markdown",
   "metadata": {},
   "source": [
    "Según los datos obtenidos, vemos que la correlación de los datos es \"cercana\" a uno por lo que se podría decir que es una buena aproximación y la métrica que nos entrega un menor error es wmape."
   ]
  },
  {
   "cell_type": "code",
   "execution_count": 16,
   "metadata": {},
   "outputs": [
    {
     "name": "stdout",
     "output_type": "stream",
     "text": [
      "\n",
      "Metricas para el regresor x:\n",
      "\n",
      "      mae     mse    rmse    mape   maape   wmape   mmape   smape        r2\n",
      "0  1.4986  2.8504  1.6883  0.1851  0.1813  0.1835  0.1647  0.1752 -3.820687\n"
     ]
    }
   ],
   "source": [
    "#Definimos el dataframe con los datos de testeo y los predecidos por el modelo\n",
    "df_temp2 = pd.DataFrame(\n",
    "    {\n",
    "        'y':y_test2,\n",
    "        'yhat': model_2.predict(X_test2)\n",
    "        }\n",
    ")\n",
    "\n",
    "\n",
    "#Calculamos los errores de las métricas y calculamos r2\n",
    "df_metrics2 = summary_metrics(df_temp2)#Definimos un dataframe para las métricas\n",
    "df_metrics2['r2'] =  r2_score(y_test2, model_2.predict(X_test2))\n",
    "print('\\nMetricas para el regresor x:\\n')\n",
    "print(df_metrics2)"
   ]
  },
  {
   "cell_type": "markdown",
   "metadata": {},
   "source": [
    "Para este caso tenemos un valor r2 bastante inusual, podría ser ocasionado por un error en el modelo o en el codigo, pero si este valor fuera correcto, podriamos decir que no existe correlación alguna entre los datos del grupo 2 y la mejor métrica es mmape, ya que tenemos un menor error."
   ]
  },
  {
   "cell_type": "code",
   "execution_count": 17,
   "metadata": {},
   "outputs": [
    {
     "name": "stdout",
     "output_type": "stream",
     "text": [
      "\n",
      "Metricas para el regresor x:\n",
      "\n",
      "      mae     mse    rmse    mape   maape   wmape   mmape   smape      r2\n",
      "0  0.9813  1.4548  1.2062  0.1196  0.1184  0.1296  0.1065  0.1105 -0.4807\n"
     ]
    }
   ],
   "source": [
    "#Definimos el dataframe con los datos de testeo y los predecidos por el modelo\n",
    "df_temp3 = pd.DataFrame(\n",
    "    {\n",
    "        'y':y_test3,\n",
    "        'yhat': model_3.predict(X_test3)\n",
    "        }\n",
    ")\n",
    "\n",
    "\n",
    "#Calculamos los errores de las métricas y calculamos r2\n",
    "df_metrics3= summary_metrics(df_temp3)#Definimos un dataframe para las métricas\n",
    "df_metrics3['r2'] =  round(r2_score(y_test3, model_3.predict(X_test3)),4)\n",
    "print('\\nMetricas para el regresor x:\\n')\n",
    "print(df_metrics3)"
   ]
  },
  {
   "cell_type": "markdown",
   "metadata": {},
   "source": [
    "Al igual que el caso anterior vemos que r2 toma un valor negativo, el cual podría ser producido por un error en el codigo, pero si este valor fuera correcto tenemos de igual manera que en el grupo 2 que los datos no tienen correlación alguna, lo cual es extraño para una regresión lineal de una recta, también tenemos que la mejor métrica es mmape, debido a que nos entrega un menor error."
   ]
  },
  {
   "cell_type": "code",
   "execution_count": 18,
   "metadata": {},
   "outputs": [
    {
     "name": "stdout",
     "output_type": "stream",
     "text": [
      "\n",
      "Metricas para el regresor x:\n",
      "\n",
      "      mae     mse    rmse    mape   maape   wmape   mmape   smape      r2\n",
      "0  0.4814  0.3671  0.6059  0.0644  0.0642  0.0671  0.0568  0.0668 -0.2071\n"
     ]
    }
   ],
   "source": [
    "#Definimos el dataframe con los datos de testeo y los predecidos por el modelo\n",
    "df_temp4 = pd.DataFrame(\n",
    "    {\n",
    "        'y':y_test4,\n",
    "        'yhat': model_4.predict(X_test4)\n",
    "        }\n",
    ")\n",
    "\n",
    "\n",
    "#Calculamos los errores de las métricas y calculamos r2\n",
    "df_metrics4 = summary_metrics(df_temp4)#Definimos un dataframe para las métricas\n",
    "r2_4 = round(r2_score(np.array(y_test4), model_4.predict(X_test4)),4)\n",
    "df_metrics4['r2'] =  r2_4\n",
    "print('\\nMetricas para el regresor x:\\n')\n",
    "print(df_metrics4)"
   ]
  },
  {
   "cell_type": "markdown",
   "metadata": {},
   "source": [
    "Para este grupo es más facil ver que los datos no tienen correlación alguna, debido a la forma de su grafica, pero por el valor de r2 no sabría si se puede concluir o no, ya que podría ser producido por un error de codigo, pero de ser cierto, tenemos que confirma la no correlación de los datos y la mejor métrica seria mmape, por tener el menor error."
   ]
  },
  {
   "cell_type": "markdown",
   "metadata": {},
   "source": [
    "5. Es claro que el ajuste lineal para algunos grupos no es el correcto. Existen varias formas de solucionar este problema (eliminar outliers, otros modelos, etc.). Identifique una estrategia para que el modelo de regresión lineal ajuste de mejor manera e implemente otros modelos en los casos que encuentre necesario. "
   ]
  },
  {
   "cell_type": "code",
   "execution_count": 19,
   "metadata": {},
   "outputs": [],
   "source": [
    "#Definimos las funciones necesarias para probar los diferentes métodos\n",
    "class SklearnRegressionModels:\n",
    "    def __init__(self,model,name_model):\n",
    "\n",
    "        self.model = model\n",
    "        self.name_model = name_model\n",
    "        \n",
    "    @staticmethod\n",
    "    def test_train_model(X,y,n_size):\n",
    "        X_train, X_test, y_train, y_test = train_test_split(X, y,test_size=n_size , random_state=42)\n",
    "        return X_train, X_test, y_train, y_test\n",
    "    \n",
    "    def fit_model(self,X,y,test_size):\n",
    "        X_train, X_test, y_train, y_test = self.test_train_model(X,y,test_size )\n",
    "        return self.model.fit(X_train, y_train) \n",
    "    \n",
    "    def df_testig(self,X,y,test_size):\n",
    "        X_train, X_test, y_train, y_test = self.test_train_model(X,y,test_size )\n",
    "        model_fit = self.model.fit(X_train, y_train)\n",
    "        preds = model_fit.predict(X_test)\n",
    "        df_temp = pd.DataFrame(\n",
    "            {\n",
    "                'y':y_test,\n",
    "                'yhat': model_fit.predict(X_test)\n",
    "            }\n",
    "        )\n",
    "        \n",
    "        return df_temp\n",
    "    \n",
    "    def metrics(self,X,y,test_size):\n",
    "        df_temp = self.df_testig(X,y,test_size)\n",
    "        df_metrics = summary_metrics(df_temp)\n",
    "        df_metrics['model'] = self.name_model\n",
    "        \n",
    "        return df_metrics\n",
    "\n",
    "    def parameters(self,X,y,test_size):\n",
    "        model_fit = self.fit_model(X,y,test_size)\n",
    "        list_betas = [\n",
    "            ('beta_0',model_fit.intercept_)\n",
    "                ]\n",
    "        betas = model_fit.coef_\n",
    "\n",
    "        for num, beta in enumerate(betas):\n",
    "            name_beta = f'beta_{num+1}'\n",
    "            list_betas.append((name_beta,round(beta,2)))\n",
    "\n",
    "        result = pd.DataFrame(\n",
    "            columns = ['coef','value'],\n",
    "            data = list_betas\n",
    "        )\n",
    "        \n",
    "        result['model'] = self.name_model\n",
    "        return result"
   ]
  },
  {
   "cell_type": "code",
   "execution_count": 28,
   "metadata": {},
   "outputs": [],
   "source": [
    "from sklearn import linear_model #importamos una función necesaria para aplicar los modelos"
   ]
  },
  {
   "cell_type": "markdown",
   "metadata": {},
   "source": [
    "Grupo 1"
   ]
  },
  {
   "cell_type": "code",
   "execution_count": 29,
   "metadata": {},
   "outputs": [],
   "source": [
    "#Definimos los datos según para cada grupo según las operaciones anteriores\n",
    "X = X_1 \n",
    "Y = y_1\n",
    "\n",
    "#Iniciamos los diferentes tipos de regresiones\n",
    "reg_lineal = linear_model.LinearRegression()\n",
    "reg_ridge = linear_model.Ridge(alpha=.5)\n",
    "reg_lasso = linear_model.Lasso(alpha=0.1)\n",
    "\n",
    "#Creamos una lista con los modelos\n",
    "list_models =[\n",
    "    [reg_lineal,'lineal'],\n",
    "    [reg_ridge,'ridge'],\n",
    "    [reg_lasso,'lasso'],\n",
    "]\n",
    "\n",
    "frames_metrics = []\n",
    "frames_coef = []\n",
    "\n",
    "#Para cada modelo calculamos los distintos errores de las métricas\n",
    "for model,name_models in list_models:\n",
    "    fit_model =  SklearnRegressionModels( model,name_models)\n",
    "    frames_metrics.append(fit_model.metrics(X,Y,0.2))\n",
    "    frames_coef.append(fit_model.parameters(X,Y,0.2))"
   ]
  },
  {
   "cell_type": "code",
   "execution_count": 30,
   "metadata": {},
   "outputs": [
    {
     "data": {
      "text/html": [
       "<div>\n",
       "<style scoped>\n",
       "    .dataframe tbody tr th:only-of-type {\n",
       "        vertical-align: middle;\n",
       "    }\n",
       "\n",
       "    .dataframe tbody tr th {\n",
       "        vertical-align: top;\n",
       "    }\n",
       "\n",
       "    .dataframe thead th {\n",
       "        text-align: right;\n",
       "    }\n",
       "</style>\n",
       "<table border=\"1\" class=\"dataframe\">\n",
       "  <thead>\n",
       "    <tr style=\"text-align: right;\">\n",
       "      <th></th>\n",
       "      <th>mae</th>\n",
       "      <th>mse</th>\n",
       "      <th>rmse</th>\n",
       "      <th>mape</th>\n",
       "      <th>maape</th>\n",
       "      <th>wmape</th>\n",
       "      <th>mmape</th>\n",
       "      <th>smape</th>\n",
       "      <th>model</th>\n",
       "    </tr>\n",
       "  </thead>\n",
       "  <tbody>\n",
       "    <tr>\n",
       "      <th>0</th>\n",
       "      <td>0.7161</td>\n",
       "      <td>1.2576</td>\n",
       "      <td>1.1214</td>\n",
       "      <td>0.1420</td>\n",
       "      <td>0.1354</td>\n",
       "      <td>0.0941</td>\n",
       "      <td>0.1182</td>\n",
       "      <td>0.1196</td>\n",
       "      <td>lineal</td>\n",
       "    </tr>\n",
       "    <tr>\n",
       "      <th>0</th>\n",
       "      <td>0.7106</td>\n",
       "      <td>1.2622</td>\n",
       "      <td>1.1235</td>\n",
       "      <td>0.1416</td>\n",
       "      <td>0.1350</td>\n",
       "      <td>0.0934</td>\n",
       "      <td>0.1178</td>\n",
       "      <td>0.1190</td>\n",
       "      <td>ridge</td>\n",
       "    </tr>\n",
       "    <tr>\n",
       "      <th>0</th>\n",
       "      <td>0.6973</td>\n",
       "      <td>1.2741</td>\n",
       "      <td>1.1288</td>\n",
       "      <td>0.1406</td>\n",
       "      <td>0.1338</td>\n",
       "      <td>0.0917</td>\n",
       "      <td>0.1168</td>\n",
       "      <td>0.1178</td>\n",
       "      <td>lasso</td>\n",
       "    </tr>\n",
       "  </tbody>\n",
       "</table>\n",
       "</div>"
      ],
      "text/plain": [
       "      mae     mse    rmse    mape   maape   wmape   mmape   smape   model\n",
       "0  0.7161  1.2576  1.1214  0.1420  0.1354  0.0941  0.1182  0.1196  lineal\n",
       "0  0.7106  1.2622  1.1235  0.1416  0.1350  0.0934  0.1178  0.1190   ridge\n",
       "0  0.6973  1.2741  1.1288  0.1406  0.1338  0.0917  0.1168  0.1178   lasso"
      ]
     },
     "execution_count": 30,
     "metadata": {},
     "output_type": "execute_result"
    }
   ],
   "source": [
    "pd.concat(frames_metrics) #Agrupamos según los modelos"
   ]
  },
  {
   "cell_type": "markdown",
   "metadata": {},
   "source": [
    "Para el grupo 1 vemos que no se puede hacer mucho, ya que es un grupo bastante disperso, pero probando diferentes métodos vemos que el mejor es el metodo lineal, por lo que dejarlo tal cual es lo apropiado."
   ]
  },
  {
   "cell_type": "markdown",
   "metadata": {},
   "source": [
    "Grupo 2"
   ]
  },
  {
   "cell_type": "code",
   "execution_count": 31,
   "metadata": {},
   "outputs": [],
   "source": [
    "#Definimos los datos según para cada grupo según las operaciones anteriores\n",
    "X = X_2 \n",
    "Y = y_2\n",
    "\n",
    "#Iniciamos los diferentes tipos de regresiones\n",
    "reg_lineal = linear_model.LinearRegression()\n",
    "reg_ridge = linear_model.Ridge(alpha=.5)\n",
    "reg_lasso = linear_model.Lasso(alpha=0.1)\n",
    "\n",
    "#Creamos una lista con los modelos\n",
    "list_models =[\n",
    "    [reg_lineal,'lineal'],\n",
    "    [reg_ridge,'ridge'],\n",
    "    [reg_lasso,'lasso'],\n",
    "]\n",
    "\n",
    "frames_metrics = []\n",
    "frames_coef = []\n",
    "\n",
    "#Para cada modelo calculamos los distintos errores de las métricas\n",
    "for model,name_models in list_models:\n",
    "    fit_model =  SklearnRegressionModels( model,name_models)\n",
    "    frames_metrics.append(fit_model.metrics(X,Y,0.2))\n",
    "    frames_coef.append(fit_model.parameters(X,Y,0.2))"
   ]
  },
  {
   "cell_type": "code",
   "execution_count": 32,
   "metadata": {},
   "outputs": [
    {
     "data": {
      "text/html": [
       "<div>\n",
       "<style scoped>\n",
       "    .dataframe tbody tr th:only-of-type {\n",
       "        vertical-align: middle;\n",
       "    }\n",
       "\n",
       "    .dataframe tbody tr th {\n",
       "        vertical-align: top;\n",
       "    }\n",
       "\n",
       "    .dataframe thead th {\n",
       "        text-align: right;\n",
       "    }\n",
       "</style>\n",
       "<table border=\"1\" class=\"dataframe\">\n",
       "  <thead>\n",
       "    <tr style=\"text-align: right;\">\n",
       "      <th></th>\n",
       "      <th>mae</th>\n",
       "      <th>mse</th>\n",
       "      <th>rmse</th>\n",
       "      <th>mape</th>\n",
       "      <th>maape</th>\n",
       "      <th>wmape</th>\n",
       "      <th>mmape</th>\n",
       "      <th>smape</th>\n",
       "      <th>model</th>\n",
       "    </tr>\n",
       "  </thead>\n",
       "  <tbody>\n",
       "    <tr>\n",
       "      <th>0</th>\n",
       "      <td>1.4986</td>\n",
       "      <td>2.8504</td>\n",
       "      <td>1.6883</td>\n",
       "      <td>0.1851</td>\n",
       "      <td>0.1813</td>\n",
       "      <td>0.1835</td>\n",
       "      <td>0.1647</td>\n",
       "      <td>0.1752</td>\n",
       "      <td>lineal</td>\n",
       "    </tr>\n",
       "    <tr>\n",
       "      <th>0</th>\n",
       "      <td>1.4913</td>\n",
       "      <td>2.8126</td>\n",
       "      <td>1.6771</td>\n",
       "      <td>0.1841</td>\n",
       "      <td>0.1804</td>\n",
       "      <td>0.1826</td>\n",
       "      <td>0.1638</td>\n",
       "      <td>0.1745</td>\n",
       "      <td>ridge</td>\n",
       "    </tr>\n",
       "    <tr>\n",
       "      <th>0</th>\n",
       "      <td>1.4798</td>\n",
       "      <td>2.7539</td>\n",
       "      <td>1.6595</td>\n",
       "      <td>0.1826</td>\n",
       "      <td>0.1790</td>\n",
       "      <td>0.1812</td>\n",
       "      <td>0.1625</td>\n",
       "      <td>0.1733</td>\n",
       "      <td>lasso</td>\n",
       "    </tr>\n",
       "  </tbody>\n",
       "</table>\n",
       "</div>"
      ],
      "text/plain": [
       "      mae     mse    rmse    mape   maape   wmape   mmape   smape   model\n",
       "0  1.4986  2.8504  1.6883  0.1851  0.1813  0.1835  0.1647  0.1752  lineal\n",
       "0  1.4913  2.8126  1.6771  0.1841  0.1804  0.1826  0.1638  0.1745   ridge\n",
       "0  1.4798  2.7539  1.6595  0.1826  0.1790  0.1812  0.1625  0.1733   lasso"
      ]
     },
     "execution_count": 32,
     "metadata": {},
     "output_type": "execute_result"
    }
   ],
   "source": [
    "pd.concat(frames_metrics)#Agrupamos según los modelos"
   ]
  },
  {
   "cell_type": "markdown",
   "metadata": {},
   "source": [
    "Para este segundo grupo vemos que tampoco se puede hacer mucho, ya que su grafica es una función cuadratica, por ende una regreasión lineal es lo menos apropiado, de esta forma probando los diferentes métodos, tenemos que el mejor es el método Lasso."
   ]
  },
  {
   "cell_type": "markdown",
   "metadata": {},
   "source": [
    "Grupo 3"
   ]
  },
  {
   "cell_type": "code",
   "execution_count": 24,
   "metadata": {},
   "outputs": [],
   "source": [
    "aux_out3 = df[mask_3]#Iniciamos un dataframe auxiliar para el grupo\n",
    "mask_out3 = aux_out3[\"y\"] <= 10 #Creamos una máscara para los outliers del grupo"
   ]
  },
  {
   "cell_type": "code",
   "execution_count": 25,
   "metadata": {},
   "outputs": [
    {
     "data": {
      "image/png": "[encoded data removed]",
      "text/plain": [
       "<Figure size 792x612 with 1 Axes>"
      ]
     },
     "metadata": {},
     "output_type": "display_data"
    }
   ],
   "source": [
    "model_3 = LinearRegression() # Iniciamos el modelo de regresión.\n",
    "\n",
    "aux_3 = aux_out3[mask_out3]#Creamos un dataframe auxiliar con la máscara del grupo\n",
    "\n",
    "#Iniciamos los datos x e y\n",
    "X_3 =aux_3[['x']]\n",
    "y_3 = aux_3['y']\n",
    "\n",
    "#Definimos los datos de testeo y entrenamiento\n",
    "X_train3, X_test3, y_train3, y_test3 = train_test_split(X_3, y_3, test_size=0.2, random_state=42)\n",
    "\n",
    "\n",
    "# Ajustamos el modelo con los datos \n",
    "model_3.fit(X_train3, y_train3)\n",
    "\n",
    "# Iniciamos los coeficientes del modelo   \n",
    "beta_0_3 = model_3.intercept_\n",
    "beta_1_3 = model_3.coef_[0]\n",
    "        \n",
    "#Iniciamos el rango de los datos de x para graficar\n",
    "x_range3 = np.arange(3,15,1)\n",
    "\n",
    "#Iniciamos un dataframe con los datos que queremos graficar \n",
    "df_plot_3 = pd.DataFrame({'x':x_range3,\n",
    "                        'y_true':[beta_0_3 + beta_1_3*n for n in x_range3]})\n",
    "  \n",
    "#Definimos un dataframe auxiliar\n",
    "aux3 = pd.DataFrame({'x':X_3['x'],\n",
    "                           'y_true':y_3})\n",
    "        \n",
    "fig, ax = plt.subplots(figsize=(11, 8.5))\n",
    "        \n",
    "        \n",
    "sns.scatterplot(x='x', y='y_true', data=aux3, ax=ax)\n",
    "sns.lineplot(x='x', y='y_true', data=df_plot_3,ax=ax,color=\"red\")\n",
    "\n",
    "plt.xlabel('x')\n",
    "plt.ylabel('y')\n",
    "plt.show()"
   ]
  },
  {
   "cell_type": "markdown",
   "metadata": {},
   "source": [
    "Para este grupo 3 vemos que con simplemente retirar el outlier, mejoramos completamente la regresión lineal por lo que es la mejor solución para este problema."
   ]
  },
  {
   "cell_type": "markdown",
   "metadata": {},
   "source": [
    "Grupo 4"
   ]
  },
  {
   "cell_type": "code",
   "execution_count": 26,
   "metadata": {},
   "outputs": [],
   "source": [
    "aux_out4 = df[mask_4] #Iniciamos un dataframe auxiliar para el grupo \n",
    "mask_out4 = aux_out4[\"y\"] <= 10 #Creamos una máscara para los outliers del grupo"
   ]
  },
  {
   "cell_type": "code",
   "execution_count": 27,
   "metadata": {},
   "outputs": [
    {
     "data": {
      "image/png": "[encoded data removed]",
      "text/plain": [
       "<Figure size 792x612 with 1 Axes>"
      ]
     },
     "metadata": {},
     "output_type": "display_data"
    }
   ],
   "source": [
    "model_4 = LinearRegression() # Iniciamos el modelo de regresión.\n",
    "\n",
    "aux_4 =  aux_out4[mask_out4]#Creamos un dataframe auxiliar con la máscara del grupo\n",
    "\n",
    "#Iniciamos los datos x e y\n",
    "X_4 =aux_4[['x']]\n",
    "y_4 = aux_4['y']\n",
    "\n",
    "#Definimos los datos de testeo y entrenamiento\n",
    "X_train4, X_test4, y_train4, y_test4 = train_test_split(X_4, y_4, test_size=0.2, random_state=42)\n",
    "\n",
    "\n",
    "# Ajustamos el modelo con los datos \n",
    "model_4.fit(X_train4, y_train4)\n",
    "\n",
    "# Iniciamos los coeficientes del modelo   \n",
    "beta_0_4 = model_4.intercept_\n",
    "beta_1_4 = model_4.coef_[0]\n",
    "\n",
    "#Iniciamos el rango de los datos de x para graficar\n",
    "x_range4 = np.arange(7,20,1)\n",
    "\n",
    "#Iniciamos un dataframe con los datos que queremos graficar \n",
    "df_plot_4 = pd.DataFrame({'x':x_range4,\n",
    "                        'y_true':[beta_0_4 + beta_1_4*n for n in x_range4]})\n",
    "\n",
    "#Definimos un dataframe auxiliar\n",
    "aux4 = pd.DataFrame({'x':X_4['x'],\n",
    "                           'y_true':y_4})\n",
    "        \n",
    "fig, ax = plt.subplots(figsize=(11, 8.5))\n",
    "        \n",
    "        \n",
    "sns.scatterplot(x='x', y='y_true', data=aux4, ax=ax)\n",
    "sns.lineplot(x='x', y='y_true', data=df_plot_4,ax=ax,color=\"red\")\n",
    "\n",
    "plt.xlabel('x')\n",
    "plt.ylabel('y')\n",
    "plt.show()"
   ]
  },
  {
   "cell_type": "markdown",
   "metadata": {},
   "source": [
    "De igual forma para este ultimo grupo, la mejor estrategia es eliminar el outlier pero de todas formas seguimos teniendo nula correlación entre los datos, por lo que no se puede hacer mucho."
   ]
  }
 ],
 "metadata": {
  "kernelspec": {
   "display_name": "Python 3",
   "language": "python",
   "name": "python3"
  },
  "language_info": {
   "codemirror_mode": {
    "name": "ipython",
    "version": 3
   },
   "file_extension": ".py",
   "mimetype": "text/x-python",
   "name": "python",
   "nbconvert_exporter": "python",
   "pygments_lexer": "ipython3",
   "version": "3.7.8"
  }
 },
 "nbformat": 4,
 "nbformat_minor": 4
}
